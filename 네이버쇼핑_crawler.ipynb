{
 "cells": [
  {
   "cell_type": "code",
   "execution_count": 1,
   "metadata": {},
   "outputs": [
    {
     "name": "stdout",
     "output_type": "stream",
     "text": [
      "Requirement already satisfied: selenium in c:\\users\\user\\desktop\\기컴프_컴사인\\lib\\site-packages (4.1.5)\n",
      "Requirement already satisfied: trio~=0.17 in c:\\users\\user\\desktop\\기컴프_컴사인\\lib\\site-packages (from selenium) (0.20.0)\n",
      "Requirement already satisfied: urllib3[secure,socks]~=1.26 in c:\\users\\user\\desktop\\기컴프_컴사인\\lib\\site-packages (from selenium) (1.26.9)\n",
      "Requirement already satisfied: trio-websocket~=0.9 in c:\\users\\user\\desktop\\기컴프_컴사인\\lib\\site-packages (from selenium) (0.9.2)\n",
      "Requirement already satisfied: sortedcontainers in c:\\users\\user\\desktop\\기컴프_컴사인\\lib\\site-packages (from trio~=0.17->selenium) (2.4.0)\n",
      "Requirement already satisfied: attrs>=19.2.0 in c:\\users\\user\\desktop\\기컴프_컴사인\\lib\\site-packages (from trio~=0.17->selenium) (21.4.0)\n",
      "Requirement already satisfied: async-generator>=1.9 in c:\\users\\user\\desktop\\기컴프_컴사인\\lib\\site-packages (from trio~=0.17->selenium) (1.10)\n",
      "Requirement already satisfied: sniffio in c:\\users\\user\\desktop\\기컴프_컴사인\\lib\\site-packages (from trio~=0.17->selenium) (1.2.0)\n",
      "Requirement already satisfied: cffi>=1.14 in c:\\users\\user\\desktop\\기컴프_컴사인\\lib\\site-packages (from trio~=0.17->selenium) (1.15.0)\n",
      "Requirement already satisfied: idna in c:\\users\\user\\desktop\\기컴프_컴사인\\lib\\site-packages (from trio~=0.17->selenium) (3.3)\n",
      "Requirement already satisfied: outcome in c:\\users\\user\\desktop\\기컴프_컴사인\\lib\\site-packages (from trio~=0.17->selenium) (1.1.0)\n",
      "Requirement already satisfied: wsproto>=0.14 in c:\\users\\user\\desktop\\기컴프_컴사인\\lib\\site-packages (from trio-websocket~=0.9->selenium) (1.1.0)\n",
      "Requirement already satisfied: PySocks!=1.5.7,<2.0,>=1.5.6 in c:\\users\\user\\desktop\\기컴프_컴사인\\lib\\site-packages (from urllib3[secure,socks]~=1.26->selenium) (1.7.1)\n",
      "Requirement already satisfied: cryptography>=1.3.4 in c:\\users\\user\\desktop\\기컴프_컴사인\\lib\\site-packages (from urllib3[secure,socks]~=1.26->selenium) (37.0.2)\n",
      "Requirement already satisfied: certifi in c:\\users\\user\\desktop\\기컴프_컴사인\\lib\\site-packages (from urllib3[secure,socks]~=1.26->selenium) (2022.5.18.1)\n",
      "Requirement already satisfied: pyOpenSSL>=0.14 in c:\\users\\user\\desktop\\기컴프_컴사인\\lib\\site-packages (from urllib3[secure,socks]~=1.26->selenium) (22.0.0)\n",
      "Requirement already satisfied: pycparser in c:\\users\\user\\desktop\\기컴프_컴사인\\lib\\site-packages (from cffi>=1.14->trio~=0.17->selenium) (2.21)\n",
      "Requirement already satisfied: h11<1,>=0.9.0 in c:\\users\\user\\desktop\\기컴프_컴사인\\lib\\site-packages (from wsproto>=0.14->trio-websocket~=0.9->selenium) (0.13.0)\n",
      "Note: you may need to restart the kernel to use updated packages.\n"
     ]
    },
    {
     "name": "stderr",
     "output_type": "stream",
     "text": [
      "WARNING: You are using pip version 22.0.4; however, version 22.1 is available.\n",
      "You should consider upgrading via the 'c:\\Users\\user\\Desktop\\기컴프_컴사인\\python.exe -m pip install --upgrade pip' command.\n"
     ]
    }
   ],
   "source": [
    "pip install selenium"
   ]
  },
  {
   "cell_type": "code",
   "execution_count": 1,
   "metadata": {
    "id": "FT-F1ci5BW5w"
   },
   "outputs": [
    {
     "name": "stderr",
     "output_type": "stream",
     "text": [
      "C:\\Users\\user\\AppData\\Local\\Temp\\ipykernel_32436\\888731082.py:7: DeprecationWarning: executable_path has been deprecated, please pass in a Service object\n",
      "  driver = webdriver.Chrome(executable_path= \"./chromedriver.exe\")\n",
      "C:\\Users\\user\\AppData\\Local\\Temp\\ipykernel_32436\\888731082.py:14: DeprecationWarning: find_element_by_xpath is deprecated. Please use find_element(by=By.XPATH, value=xpath) instead\n",
      "  serch=driver.find_element_by_xpath('//*[@id=\"_verticalGnbModule\"]/div/div/div[2]/div/div[2]/form/fieldset/div/input')\n",
      "C:\\Users\\user\\AppData\\Local\\Temp\\ipykernel_32436\\888731082.py:16: DeprecationWarning: find_element_by_xpath is deprecated. Please use find_element(by=By.XPATH, value=xpath) instead\n",
      "  driver.find_element_by_xpath('//*[@id=\"_verticalGnbModule\"]/div/div/div[2]/div/div[2]/form/fieldset/div/input').send_keys(name)\n",
      "C:\\Users\\user\\AppData\\Local\\Temp\\ipykernel_32436\\888731082.py:19: DeprecationWarning: find_element_by_xpath is deprecated. Please use find_element(by=By.XPATH, value=xpath) instead\n",
      "  serch=driver.find_element_by_xpath('//*[@id=\"__next\"]/div/div[2]/div[2]/div[3]/div[1]/div[1]/div/div[2]/div[3]/a')\n",
      "C:\\Users\\user\\AppData\\Local\\Temp\\ipykernel_32436\\888731082.py:22: DeprecationWarning: find_element_by_xpath is deprecated. Please use find_element(by=By.XPATH, value=xpath) instead\n",
      "  serch=driver.find_element_by_xpath('//*[@id=\"__next\"]/div/div[2]/div[2]/div[3]/div[1]/div[1]/div/div[2]/div[3]/ul/li[1]/a')\n",
      "C:\\Users\\user\\AppData\\Local\\Temp\\ipykernel_32436\\888731082.py:25: DeprecationWarning: find_element_by_xpath is deprecated. Please use find_element(by=By.XPATH, value=xpath) instead\n",
      "  serch=driver.find_element_by_xpath('//*[@id=\"__next\"]/div/div[2]/div[2]/div[3]/div[1]/div[1]/div/div[1]/a[4]')\n",
      "C:\\Users\\user\\AppData\\Local\\Temp\\ipykernel_32436\\888731082.py:38: DeprecationWarning: find_element_by_xpath is deprecated. Please use find_element(by=By.XPATH, value=xpath) instead\n",
      "  name = driver.find_element_by_xpath(f'//*[@id=\"__next\"]/div/div[2]/div[2]/div[3]/div[1]/ul/div/div[{j}]/li/div/div[2]/div[1]/a').text\n"
     ]
    },
    {
     "name": "stdout",
     "output_type": "stream",
     "text": [
      "['나비 집들이 선물세트 하우스워밍4호', '나비 집들이 선물세트 하우스워밍1호', '나비 집들이 선물세트 하우스워밍2호', '나비나무 지타워 4단 먼치킨용 선반형 캣타워', '토토 5단 원목 캣타워 기본형', '캐츠랑 전연령 5kg x4개 20kg 16kg 나비랑 대용량 고양이 길고양이 길냥이사료', '팜스코 나비야 15kg 대용량 길냥이 길고양이 프로베스트 캣츠미 캐츠랑 고양이사료', '나비 ADT3 휴대용 차량용청소기 파워 에어건', '나비나무 아이폴 고양이 원목 알루미늄 캣타워', '나비 주방 수세미 무선 진동 싱크대 클리너 ECL77', '청연엠엔에스 나비 무선 에어건 NV99-ADT3', 'NAVI 생활램프 모티터 LED스탠드 NV6-LUX6', '나비 폴드젯 폴드폰충전 차량용무선충전기 nv123ffz1q', '오동나무 반닫이 제기보관함 제기함 목기함 봉황 나비 고가구', '함보경_나비효과 기본액자포함', '남원공방 제기함 제기 세트 보관함 오동나무 봉황 나비 왕관', '나비 실내용 돔형 모형 CCTV 카메라 NV47-CCT10', '나비 식물 분무기 가정용 화초 락스 미세 안개 미용실', '나비 플립젯 플립폰충전 차량용무선충전기 nv100dcc1', '나비나무 코코 A형 캣타워 원목 캣폴 캣타워']\n"
     ]
    },
    {
     "name": "stderr",
     "output_type": "stream",
     "text": [
      "C:\\Users\\user\\AppData\\Local\\Temp\\ipykernel_32436\\888731082.py:58: DeprecationWarning: find_element_by_xpath is deprecated. Please use find_element(by=By.XPATH, value=xpath) instead\n",
      "  price_all = driver.find_element_by_xpath(f'//*[@id=\"__next\"]/div/div[2]/div[2]/div[3]/div[1]/ul/div/div[{j}]/li/div/div[2]/div[2]/strong/span/span').text\n"
     ]
    },
    {
     "name": "stdout",
     "output_type": "stream",
     "text": [
      "['65,000원', '35,000원', '45,000원', '최저', '최저', '40,900원', '24,390원', '최저', '최저', '최저', '최저', '최저', '최저', '89,900원', '365,000원', '86,900원', '최저', '최저', '최저', '최저']\n"
     ]
    },
    {
     "name": "stderr",
     "output_type": "stream",
     "text": [
      "C:\\Users\\user\\AppData\\Local\\Temp\\ipykernel_32436\\888731082.py:76: DeprecationWarning: find_element_by_xpath is deprecated. Please use find_element(by=By.XPATH, value=xpath) instead\n",
      "  sort = driver.find_element_by_xpath(f'//*[@id=\"__next\"]/div/div[2]/div[2]/div[3]/div[1]/ul/div/div[{j}]/li/div/div[2]/div[3]/span[4]').text\n"
     ]
    },
    {
     "name": "stdout",
     "output_type": "stream",
     "text": [
      "['건식사료', '건식사료', '차량용청소기', '수세미', '차량용청소기', '장스탠드', '차량용휴대폰충전기', '제기함', '아트포스터', '제기함', '모형카메라', '분무기', '차량용휴대폰충전기']\n"
     ]
    }
   ],
   "source": [
    "from selenium import webdriver\n",
    "from selenium.webdriver.common.keys import Keys\n",
    "import time\n",
    "\n",
    "name = input('네이버 쇼핑에서 찾고 싶은 물건을 입력해주세요 > ')\n",
    "\n",
    "driver = webdriver.Chrome(executable_path= \"./chromedriver.exe\")\n",
    "\n",
    "url = \"https://shopping.naver.com/home/p/index.naver\"\n",
    "driver.get(url)\n",
    "\n",
    "time.sleep(1)\n",
    "\n",
    "serch=driver.find_element_by_xpath('//*[@id=\"_verticalGnbModule\"]/div/div/div[2]/div/div[2]/form/fieldset/div/input')\n",
    "serch.click()\n",
    "driver.find_element_by_xpath('//*[@id=\"_verticalGnbModule\"]/div/div/div[2]/div/div[2]/form/fieldset/div/input').send_keys(name)\n",
    "serch.send_keys(Keys.ENTER)\n",
    "\n",
    "serch=driver.find_element_by_xpath('//*[@id=\"__next\"]/div/div[2]/div[2]/div[3]/div[1]/div[1]/div/div[2]/div[3]/a')\n",
    "serch.click()\n",
    "\n",
    "serch=driver.find_element_by_xpath('//*[@id=\"__next\"]/div/div[2]/div[2]/div[3]/div[1]/div[1]/div/div[2]/div[3]/ul/li[1]/a')\n",
    "serch.click()\n",
    "\n",
    "serch=driver.find_element_by_xpath('//*[@id=\"__next\"]/div/div[2]/div[2]/div[3]/div[1]/div[1]/div/div[1]/a[4]')\n",
    "serch.click()\n",
    "\n",
    "driver.execute_script(\"window.scrollTo(0, 10000)\")\n",
    "driver.execute_script(\"window.scrollTo(10000, 0)\")\n",
    "\n",
    "\n",
    "li=[]\n",
    "\n",
    "while True:\n",
    " for j in range(1, 21):\n",
    "   n = len(li)\n",
    "   try:\n",
    "     name = driver.find_element_by_xpath(f'//*[@id=\"__next\"]/div/div[2]/div[2]/div[3]/div[1]/ul/div/div[{j}]/li/div/div[2]/div[1]/a').text\n",
    "     li.append(name)\n",
    "     if len(li) == n:\n",
    "      name = driver.find_element_by_xpath(f'//*[@id=\"__next\"]/div/div[2]/div[2]/div[3]/div[1]/ul/div/div[{j}]/li/div[1]/div[2]/div[1]/a').text\n",
    "      li.append(name)\n",
    "   except:\n",
    "     name = \"NAN\"\n",
    "     pass\n",
    " if len(li) == 20:\n",
    "     break\n",
    "\n",
    "print(li)\n",
    "\n",
    "\n",
    "\n",
    "prili=[]\n",
    "\n",
    "while True:\n",
    " for j in range(1, 21):\n",
    "   try:\n",
    "     price_all = driver.find_element_by_xpath(f'//*[@id=\"__next\"]/div/div[2]/div[2]/div[3]/div[1]/ul/div/div[{j}]/li/div/div[2]/div[2]/strong/span/span').text\n",
    "     prili.append(price_all)\n",
    "   except:\n",
    "     name = \"NAN\"\n",
    "     pass\n",
    " if len(prili) == 20:\n",
    "     break\n",
    "\n",
    "\n",
    "print(prili)\n",
    "\n",
    "\n",
    "\n",
    "SO=[]\n",
    "\n",
    "for j in range(1, 21):\n",
    "  K=len(SO)\n",
    "  try:\n",
    "    sort = driver.find_element_by_xpath(f'//*[@id=\"__next\"]/div/div[2]/div[2]/div[3]/div[1]/ul/div/div[{j}]/li/div/div[2]/div[3]/span[4]').text\n",
    "    SO.append(sort)\n",
    "    if len(SO)==K:\n",
    "        sort=driver.find_element_by_xpath(f'//*[@id=\"__next\"]/div/div[2]/div[2]/div[3]/div[1]/ul/div/div[{j}]/li/div/div[2]/div[3]/span[4]').text\n",
    "  except:\n",
    "    sort=\"NAN\"\n",
    "    pass\n",
    "  if len(SO)==20:\n",
    "      break\n",
    "print(SO)\n",
    "\n",
    "\n"
   ]
  },
  {
   "cell_type": "code",
   "execution_count": 4,
   "metadata": {},
   "outputs": [],
   "source": [
    "with open('1조_서용훈_출력결과.txt','w',encoding='UTF-8') as f1:\n",
    "    for tt in SO:\n",
    "        f1.write(tt+'\\n')\n",
    "with open('1조_문지영_출력결과.txt','w',encoding='UTF-8') as f2:\n",
    "    for tt in li:\n",
    "        f2.write(tt+'\\n')\n",
    "with open('1조_임혜준_출력결과.txt','w',encoding='UTF-8') as f3:\n",
    "    for tt in prili:\n",
    "        f3.write(tt+'\\n')"
   ]
  },
  {
   "cell_type": "code",
   "execution_count": 3,
   "metadata": {},
   "outputs": [
    {
     "name": "stdout",
     "output_type": "stream",
     "text": [
      "Requirement already satisfied: pandas in c:\\users\\user\\desktop\\기컴프_컴사인\\lib\\site-packages (1.4.2)\n",
      "Requirement already satisfied: numpy>=1.18.5 in c:\\users\\user\\desktop\\기컴프_컴사인\\lib\\site-packages (from pandas) (1.22.4)\n",
      "Requirement already satisfied: python-dateutil>=2.8.1 in c:\\users\\user\\desktop\\기컴프_컴사인\\lib\\site-packages (from pandas) (2.8.2)\n",
      "Requirement already satisfied: pytz>=2020.1 in c:\\users\\user\\desktop\\기컴프_컴사인\\lib\\site-packages (from pandas) (2022.1)\n",
      "Requirement already satisfied: six>=1.5 in c:\\users\\user\\desktop\\기컴프_컴사인\\lib\\site-packages (from python-dateutil>=2.8.1->pandas) (1.16.0)\n",
      "Note: you may need to restart the kernel to use updated packages.\n"
     ]
    },
    {
     "name": "stderr",
     "output_type": "stream",
     "text": [
      "WARNING: You are using pip version 22.0.4; however, version 22.1 is available.\n",
      "You should consider upgrading via the 'c:\\Users\\user\\Desktop\\기컴프_컴사인\\python.exe -m pip install --upgrade pip' command.\n"
     ]
    }
   ],
   "source": [
    "pip install pandas"
   ]
  },
  {
   "cell_type": "code",
   "execution_count": 13,
   "metadata": {},
   "outputs": [],
   "source": [
    "import pandas as pd"
   ]
  },
  {
   "cell_type": "code",
   "execution_count": 14,
   "metadata": {},
   "outputs": [
    {
     "name": "stdout",
     "output_type": "stream",
     "text": [
      "                                                   상품\n",
      "0             일리 캡슐 커피(네스프레소 호환 스타벅스 로르 네스카페) 개별포장 7개\n",
      "1                 일리 캡슐 커피(네스프레소 호환 캡슐 스타벅스 캡슐)개별포장8개\n",
      "2        [3+ ] 네스카페 돌체구스토 커피 캡슐 디카페인 라떼 아이스 아메리카노 32종\n",
      "3                     네스프레소 호환 일리 스타벅스 라바짜 캡슐 분쇄커피 포함\n",
      "4                 하이드로더치 하이드로 더치커피 콜드브루 8종 10+10+2팩 외\n",
      "5   1kg 원두커피 10+1 특가제외 당일 로스팅 신선한 갓볶은 만델링 에티오피아 케냐...\n",
      "6                           일리 캡슐 스타벅스 네스프레소 호환 캡슐 커피\n",
      "7           일리 캡슐 커피 스타벅스 라바짜 캡슐 디카페인 최저 (네스프레소 호환포함)\n",
      "8                 [T멤버쉽 11%]맥심 모카골드 360T / 화이트골드 360T\n",
      "9    일리 캡슐 커피 (네스프레소 호환 캡슐 스타벅스 캡슐 라바짜) 10 18 21 개별포장\n",
      "10                           맥심 맥심 모카골드 180Tx2개 총360T\n",
      "11                                               원두커피\n",
      "12             [4+1] 네스카페 돌체구스토 캡슐 커피 모음전 아메리카노 룽고 라떼\n",
      "13                        [본사직영몰] 네스카페 돌체구스토 캡슐커피 모음전\n",
      "14                     [본사직영몰] 스타벅스 캡슐커피 by 돌체구스토 10종\n",
      "15                      갓볶은 신선한 드립백 원두커피 68종(10g/1티백)\n",
      "16                          일리 캡슐 커피 스타벅스 네스프레소 호환 캡슐\n",
      "17                         G7 블랙 퓨어블랙 인스턴트커피 100개입 1개\n",
      "18                      10+10+10 하이드로 더치커피 콜드브루 원두 커피\n",
      "19                           맥심 모카골드 360T /화이트골드 360T\n"
     ]
    }
   ],
   "source": [
    "df=pd.DataFrame()\n",
    "df['상품'] = li\n",
    "print(df)"
   ]
  },
  {
   "cell_type": "code",
   "execution_count": 15,
   "metadata": {},
   "outputs": [
    {
     "name": "stdout",
     "output_type": "stream",
     "text": [
      "         가격\n",
      "0    5,500원\n",
      "1    5,890원\n",
      "2    9,800원\n",
      "3    2,980원\n",
      "4    5,500원\n",
      "5    8,100원\n",
      "6    5,750원\n",
      "7    2,900원\n",
      "8   47,660원\n",
      "9    5,890원\n",
      "10  45,500원\n",
      "11  14,900원\n",
      "12   9,800원\n",
      "13   9,800원\n",
      "14   8,700원\n",
      "15     750원\n",
      "16   5,390원\n",
      "17   8,500원\n",
      "18   7,200원\n",
      "19  45,590원\n"
     ]
    }
   ],
   "source": [
    "pi=pd.DataFrame()\n",
    "pi['가격']=prili\n",
    "print(pi)\n"
   ]
  },
  {
   "cell_type": "code",
   "execution_count": 16,
   "metadata": {},
   "outputs": [
    {
     "name": "stdout",
     "output_type": "stream",
     "text": [
      "             종류\n",
      "0          캡슐커피\n",
      "1          캡슐커피\n",
      "2          캡슐커피\n",
      "3          캡슐커피\n",
      "4          더치커피\n",
      "5         원두/생두\n",
      "6          캡슐커피\n",
      "7          캡슐커피\n",
      "8   커피믹스/인스턴트커피\n",
      "9          캡슐커피\n",
      "10  커피믹스/인스턴트커피\n",
      "11        원두/생두\n",
      "12         캡슐커피\n",
      "13         캡슐커피\n",
      "14         캡슐커피\n",
      "15       드립백/티백\n",
      "16         캡슐커피\n",
      "17  커피믹스/인스턴트커피\n",
      "18         더치커피\n",
      "19  커피믹스/인스턴트커피\n"
     ]
    }
   ],
   "source": [
    "ty = pd.DataFrame()\n",
    "ty['종류']=SO\n",
    "print(ty)"
   ]
  },
  {
   "cell_type": "code",
   "execution_count": 17,
   "metadata": {},
   "outputs": [
    {
     "name": "stdout",
     "output_type": "stream",
     "text": [
      "                                                   상품       가격           종류\n",
      "0             일리 캡슐 커피(네스프레소 호환 스타벅스 로르 네스카페) 개별포장 7개   5,500원         캡슐커피\n",
      "1                 일리 캡슐 커피(네스프레소 호환 캡슐 스타벅스 캡슐)개별포장8개   5,890원         캡슐커피\n",
      "2        [3+ ] 네스카페 돌체구스토 커피 캡슐 디카페인 라떼 아이스 아메리카노 32종   9,800원         캡슐커피\n",
      "3                     네스프레소 호환 일리 스타벅스 라바짜 캡슐 분쇄커피 포함   2,980원         캡슐커피\n",
      "4                 하이드로더치 하이드로 더치커피 콜드브루 8종 10+10+2팩 외   5,500원         더치커피\n",
      "5   1kg 원두커피 10+1 특가제외 당일 로스팅 신선한 갓볶은 만델링 에티오피아 케냐...   8,100원        원두/생두\n",
      "6                           일리 캡슐 스타벅스 네스프레소 호환 캡슐 커피   5,750원         캡슐커피\n",
      "7           일리 캡슐 커피 스타벅스 라바짜 캡슐 디카페인 최저 (네스프레소 호환포함)   2,900원         캡슐커피\n",
      "8                 [T멤버쉽 11%]맥심 모카골드 360T / 화이트골드 360T  47,660원  커피믹스/인스턴트커피\n",
      "9    일리 캡슐 커피 (네스프레소 호환 캡슐 스타벅스 캡슐 라바짜) 10 18 21 개별포장   5,890원         캡슐커피\n",
      "10                           맥심 맥심 모카골드 180Tx2개 총360T  45,500원  커피믹스/인스턴트커피\n",
      "11                                               원두커피  14,900원        원두/생두\n",
      "12             [4+1] 네스카페 돌체구스토 캡슐 커피 모음전 아메리카노 룽고 라떼   9,800원         캡슐커피\n",
      "13                        [본사직영몰] 네스카페 돌체구스토 캡슐커피 모음전   9,800원         캡슐커피\n",
      "14                     [본사직영몰] 스타벅스 캡슐커피 by 돌체구스토 10종   8,700원         캡슐커피\n",
      "15                      갓볶은 신선한 드립백 원두커피 68종(10g/1티백)     750원       드립백/티백\n",
      "16                          일리 캡슐 커피 스타벅스 네스프레소 호환 캡슐   5,390원         캡슐커피\n",
      "17                         G7 블랙 퓨어블랙 인스턴트커피 100개입 1개   8,500원  커피믹스/인스턴트커피\n",
      "18                      10+10+10 하이드로 더치커피 콜드브루 원두 커피   7,200원         더치커피\n",
      "19                           맥심 모카골드 360T /화이트골드 360T  45,590원  커피믹스/인스턴트커피\n"
     ]
    }
   ],
   "source": [
    "res =  pd.DataFrame()\n",
    "res['상품'] = li\n",
    "res['가격'] = prili\n",
    "res['종류'] = SO\n",
    "print(res)"
   ]
  }
 ],
 "metadata": {
  "interpreter": {
   "hash": "efb3f54ef8911dc914f55a9af49f3bbe71028ec86225638d8d432e62c4927c8f"
  },
  "kernelspec": {
   "display_name": "Python 3.9.13 64-bit",
   "language": "python",
   "name": "python3"
  },
  "language_info": {
   "codemirror_mode": {
    "name": "ipython",
    "version": 3
   },
   "file_extension": ".py",
   "mimetype": "text/x-python",
   "name": "python",
   "nbconvert_exporter": "python",
   "pygments_lexer": "ipython3",
   "version": "3.9.13"
  },
  "orig_nbformat": 4
 },
 "nbformat": 4,
 "nbformat_minor": 2
}
