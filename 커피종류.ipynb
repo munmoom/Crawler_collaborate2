{
 "cells": [
  {
   "cell_type": "code",
   "execution_count": null,
   "metadata": {},
   "outputs": [
    {
     "ename": "",
     "evalue": "",
     "output_type": "error",
     "traceback": [
      "\u001b[1;31mFailed to start the Kernel. \n",
      "c:\\Users\\서용훈\\AppData\\Local\\Programs\\Python\\Python310\\lib\\site-packages\\traitlets\\traitlets.py:2389: FutureWarning: Supporting extra quotes around strings is deprecated in traitlets 5.0. You can use 'hmac-sha256' instead of '\"hmac-sha256\"' if you require traitlets >=5.\r\n",
      "  warn(\r\n",
      "c:\\Users\\서용훈\\AppData\\Local\\Programs\\Python\\Python310\\lib\\site-packages\\traitlets\\traitlets.py:2343: FutureWarning: Supporting extra quotes around Bytes is deprecated in traitlets 5.0. Use 'a69644e1-71f1-449a-8d4d-61b063bb1399' instead of 'b\"a69644e1-71f1-449a-8d4d-61b063bb1399\"'.\r\n",
      "  warn(\r\n",
      "Bad file descriptor (C:\\projects\\libzmq\\src\\epoll.cpp:100). \n",
      "View Jupyter <a href='command:jupyter.viewOutput'>log</a> for further details."
     ]
    }
   ],
   "source": [
    "from selenium import webdriver\n",
    "from selenium.webdriver.common.keys import Keys\n",
    "import time\n",
    "\n",
    "driver = webdriver.Chrome(executable_path= \"./chromedriver.exe\")\n",
    "\n",
    "url = \"https://shopping.naver.com/home/p/index.naver\"\n",
    "driver.get(url)\n",
    "\n",
    "\n",
    "time.sleep(1)\n",
    "\n",
    "serch=driver.find_element_by_xpath('//*[@id=\"_verticalGnbModule\"]/div/div/div[2]/div/div[2]/form/fieldset/div/input')\n",
    "serch.click()\n",
    "driver.find_element_by_xpath('//*[@id=\"_verticalGnbModule\"]/div/div/div[2]/div/div[2]/form/fieldset/div/input').send_keys('커피')\n",
    "serch.send_keys(Keys.ENTER)\n",
    "\n",
    "serch=driver.find_element_by_xpath('//*[@id=\"__next\"]/div/div[2]/div[2]/div[3]/div[1]/div[1]/div/div[2]/div[3]/a')\n",
    "serch.click()\n",
    "\n",
    "serch=driver.find_element_by_xpath('//*[@id=\"__next\"]/div/div[2]/div[2]/div[3]/div[1]/div[1]/div/div[2]/div[3]/ul/li[1]/a')\n",
    "serch.click()\n",
    "\n",
    "serch=driver.find_element_by_xpath('//*[@id=\"__next\"]/div/div[2]/div[2]/div[3]/div[1]/div[1]/div[1]/div[1]/a[4]')\n",
    "serch.click()\n",
    "SO=[]\n",
    "driver.execute_script(\"window.scrollTo(0, 10000)\")\n",
    "driver.execute_script(\"window.scrollTo(10000, 0)\")\n",
    "\n",
    "for j in range(1, 21):\n",
    "  K=len(SO)\n",
    "  try:\n",
    "    sort = driver.find_element_by_xpath(f'//*[@id=\"__next\"]/div/div[2]/div[2]/div[3]/div[1]/ul/div/div[{j}]/li/div/div[2]/div[3]/span[4]').text\n",
    "    SO.append(sort)\n",
    "    if len(SO)==K:\n",
    "        sort=driver.find_element_by_xpath(f'//*[@id=\"__next\"]/div/div[2]/div[2]/div[3]/div[1]/ul/div/div[{j}]/li/div/div[2]/div[3]/span[4]').text\n",
    "  except:\n",
    "    sort=\"NAN\"\n",
    "    pass\n",
    "  if len(SO)==20:\n",
    "      break\n",
    "print(SO)"
   ]
  }
 ],
 "metadata": {
  "interpreter": {
   "hash": "d9356e986f09103811c1846b6bde5cc78ea3bef24ccbeeae0265c998229922bd"
  },
  "kernelspec": {
   "display_name": "Python 3.10.4 64-bit (system)",
   "language": "python",
   "name": "python3"
  },
  "language_info": {
   "name": "python",
   "version": "3.10.4"
  },
  "orig_nbformat": 4
 },
 "nbformat": 4,
 "nbformat_minor": 2
}
