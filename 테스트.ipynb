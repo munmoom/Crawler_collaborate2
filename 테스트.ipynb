{
 "cells": [
  {
   "cell_type": "code",
   "execution_count": null,
   "metadata": {},
   "outputs": [],
   "source": [
    "pip install selenium"
   ]
  },
  {
   "cell_type": "code",
   "execution_count": 2,
   "metadata": {
    "id": "FT-F1ci5BW5w"
   },
   "outputs": [
    {
     "name": "stderr",
     "output_type": "stream",
     "text": [
      "C:\\Users\\user\\AppData\\Local\\Temp\\ipykernel_18004\\681577174.py:5: DeprecationWarning: executable_path has been deprecated, please pass in a Service object\n",
      "  driver = webdriver.Chrome(executable_path= \"./chromedriver.exe\")\n",
      "C:\\Users\\user\\AppData\\Local\\Temp\\ipykernel_18004\\681577174.py:12: DeprecationWarning: find_element_by_xpath is deprecated. Please use find_element(by=By.XPATH, value=xpath) instead\n",
      "  serch=driver.find_element_by_xpath('//*[@id=\"_verticalGnbModule\"]/div/div/div[2]/div/div[2]/form/fieldset/div/input')\n",
      "C:\\Users\\user\\AppData\\Local\\Temp\\ipykernel_18004\\681577174.py:14: DeprecationWarning: find_element_by_xpath is deprecated. Please use find_element(by=By.XPATH, value=xpath) instead\n",
      "  driver.find_element_by_xpath('//*[@id=\"_verticalGnbModule\"]/div/div/div[2]/div/div[2]/form/fieldset/div/input').send_keys('커피')\n",
      "C:\\Users\\user\\AppData\\Local\\Temp\\ipykernel_18004\\681577174.py:17: DeprecationWarning: find_element_by_xpath is deprecated. Please use find_element(by=By.XPATH, value=xpath) instead\n",
      "  serch=driver.find_element_by_xpath('//*[@id=\"__next\"]/div/div[2]/div[2]/div[3]/div[1]/div[1]/div/div[2]/div[3]/a')\n",
      "C:\\Users\\user\\AppData\\Local\\Temp\\ipykernel_18004\\681577174.py:20: DeprecationWarning: find_element_by_xpath is deprecated. Please use find_element(by=By.XPATH, value=xpath) instead\n",
      "  serch=driver.find_element_by_xpath('//*[@id=\"__next\"]/div/div[2]/div[2]/div[3]/div[1]/div[1]/div/div[2]/div[3]/ul/li[1]/a')\n",
      "C:\\Users\\user\\AppData\\Local\\Temp\\ipykernel_18004\\681577174.py:23: DeprecationWarning: find_element_by_xpath is deprecated. Please use find_element(by=By.XPATH, value=xpath) instead\n",
      "  serch=driver.find_element_by_xpath('//*[@id=\"__next\"]/div/div[2]/div[2]/div[3]/div[1]/div[1]/div/div[1]/a[4]')\n",
      "C:\\Users\\user\\AppData\\Local\\Temp\\ipykernel_18004\\681577174.py:36: DeprecationWarning: find_element_by_xpath is deprecated. Please use find_element(by=By.XPATH, value=xpath) instead\n",
      "  name = driver.find_element_by_xpath(f'//*[@id=\"__next\"]/div/div[2]/div[2]/div[3]/div[1]/ul/div/div[{j}]/li/div/div[2]/div[1]/a').text\n"
     ]
    },
    {
     "name": "stdout",
     "output_type": "stream",
     "text": [
      "['일리 캡슐 커피(네스프레소 호환 스타벅스 로르 네스카페) 개별포장 7개', '일리 캡슐 커피(네스프레소 호환 캡슐 스타벅스 캡슐)개별포장8개', '[3+ ] 네스카페 돌체구스토 커피 캡슐 디카페인 라떼 아이스 아메리카노 32종', '네스프레소 호환 일리 스타벅스 라바짜 캡슐 분쇄커피 포함', '하이드로더치 하이드로 더치커피 콜드브루 8종 10+10+2팩 외', '1kg 원두커피 10+1 특가제외 당일 로스팅 신선한 갓볶은 만델링 에티오피아 케냐 콜롬비아 과테말라 스페셜 브라질 베트남 예가체프 에스프레소 향 홀빈 드립 더치 분쇄 콩', '일리 캡슐 스타벅스 네스프레소 호환 캡슐 커피', '일리 캡슐 커피 스타벅스 라바짜 캡슐 디카페인 최저 (네스프레소 호환포함)', '[T멤버쉽 11%]맥심 모카골드 360T / 화이트골드 360T', '일리 캡슐 커피 (네스프레소 호환 캡슐 스타벅스 캡슐 라바짜) 10 18 21 개별포장', '맥심 맥심 모카골드 180Tx2개 총360T', '원두커피', '[4+1] 네스카페 돌체구스토 캡슐 커피 모음전 아메리카노 룽고 라떼', '[본사직영몰] 네스카페 돌체구스토 캡슐커피 모음전', '[본사직영몰] 스타벅스 캡슐커피 by 돌체구스토 10종', '갓볶은 신선한 드립백 원두커피 68종(10g/1티백)', '일리 캡슐 커피 스타벅스 네스프레소 호환 캡슐', 'G7 블랙 퓨어블랙 인스턴트커피 100개입 1개', '10+10+10 하이드로 더치커피 콜드브루 원두 커피', '맥심 모카골드 360T /화이트골드 360T']\n"
     ]
    }
   ],
   "source": [
    "from selenium import webdriver\n",
    "from selenium.webdriver.common.keys import Keys\n",
    "import time\n",
    "\n",
    "driver = webdriver.Chrome(executable_path= \"./chromedriver.exe\")\n",
    "\n",
    "url = \"https://shopping.naver.com/home/p/index.naver\"\n",
    "driver.get(url)\n",
    "\n",
    "time.sleep(1)\n",
    "\n",
    "serch=driver.find_element_by_xpath('//*[@id=\"_verticalGnbModule\"]/div/div/div[2]/div/div[2]/form/fieldset/div/input')\n",
    "serch.click()\n",
    "driver.find_element_by_xpath('//*[@id=\"_verticalGnbModule\"]/div/div/div[2]/div/div[2]/form/fieldset/div/input').send_keys('커피')\n",
    "serch.send_keys(Keys.ENTER)\n",
    "\n",
    "serch=driver.find_element_by_xpath('//*[@id=\"__next\"]/div/div[2]/div[2]/div[3]/div[1]/div[1]/div/div[2]/div[3]/a')\n",
    "serch.click()\n",
    "\n",
    "serch=driver.find_element_by_xpath('//*[@id=\"__next\"]/div/div[2]/div[2]/div[3]/div[1]/div[1]/div/div[2]/div[3]/ul/li[1]/a')\n",
    "serch.click()\n",
    "\n",
    "serch=driver.find_element_by_xpath('//*[@id=\"__next\"]/div/div[2]/div[2]/div[3]/div[1]/div[1]/div/div[1]/a[4]')\n",
    "serch.click()\n",
    "\n",
    "driver.execute_script(\"window.scrollTo(0, 10000)\")\n",
    "driver.execute_script(\"window.scrollTo(10000, 0)\")\n",
    "\n",
    "\n",
    "li=[]\n",
    "\n",
    "while True:\n",
    " for j in range(1, 21):\n",
    "   n = len(li)\n",
    "   try:\n",
    "     name = driver.find_element_by_xpath(f'//*[@id=\"__next\"]/div/div[2]/div[2]/div[3]/div[1]/ul/div/div[{j}]/li/div/div[2]/div[1]/a').text\n",
    "     li.append(name)\n",
    "     if len(li) == n:\n",
    "      name = driver.find_element_by_xpath(f'//*[@id=\"__next\"]/div/div[2]/div[2]/div[3]/div[1]/ul/div/div[{j}]/li/div[1]/div[2]/div[1]/a').text\n",
    "      li.append(name)\n",
    "   except:\n",
    "     name = \"NAN\"\n",
    "     pass\n",
    " if len(li) == 20:\n",
    "     break\n",
    "\n",
    "print(li)\n",
    "\n"
   ]
  }
 ],
 "metadata": {
  "interpreter": {
   "hash": "efb3f54ef8911dc914f55a9af49f3bbe71028ec86225638d8d432e62c4927c8f"
  },
  "kernelspec": {
   "display_name": "Python 3.9.13 64-bit",
   "language": "python",
   "name": "python3"
  },
  "language_info": {
   "codemirror_mode": {
    "name": "ipython",
    "version": 3
   },
   "file_extension": ".py",
   "mimetype": "text/x-python",
   "name": "python",
   "nbconvert_exporter": "python",
   "pygments_lexer": "ipython3",
   "version": "3.9.13"
  },
  "orig_nbformat": 4
 },
 "nbformat": 4,
 "nbformat_minor": 2
}
