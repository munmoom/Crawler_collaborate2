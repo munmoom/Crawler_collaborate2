{
 "cells": [
  {
   "cell_type": "code",
   "execution_count": 2,
   "metadata": {},
   "outputs": [
    {
     "name": "stdout",
     "output_type": "stream",
     "text": [
      "Requirement already satisfied: selenium in c:\\users\\user\\desktop\\기컴프_컴사인\\lib\\site-packages (4.1.5)\n",
      "Requirement already satisfied: trio~=0.17 in c:\\users\\user\\desktop\\기컴프_컴사인\\lib\\site-packages (from selenium) (0.20.0)\n",
      "Requirement already satisfied: urllib3[secure,socks]~=1.26 in c:\\users\\user\\desktop\\기컴프_컴사인\\lib\\site-packages (from selenium) (1.26.9)\n",
      "Requirement already satisfied: trio-websocket~=0.9 in c:\\users\\user\\desktop\\기컴프_컴사인\\lib\\site-packages (from selenium) (0.9.2)\n",
      "Requirement already satisfied: sortedcontainers in c:\\users\\user\\desktop\\기컴프_컴사인\\lib\\site-packages (from trio~=0.17->selenium) (2.4.0)\n",
      "Requirement already satisfied: outcome in c:\\users\\user\\desktop\\기컴프_컴사인\\lib\\site-packages (from trio~=0.17->selenium) (1.1.0)\n",
      "Requirement already satisfied: attrs>=19.2.0 in c:\\users\\user\\desktop\\기컴프_컴사인\\lib\\site-packages (from trio~=0.17->selenium) (21.4.0)\n",
      "Requirement already satisfied: idna in c:\\users\\user\\desktop\\기컴프_컴사인\\lib\\site-packages (from trio~=0.17->selenium) (3.3)\n",
      "Requirement already satisfied: cffi>=1.14 in c:\\users\\user\\desktop\\기컴프_컴사인\\lib\\site-packages (from trio~=0.17->selenium) (1.15.0)\n",
      "Requirement already satisfied: sniffio in c:\\users\\user\\desktop\\기컴프_컴사인\\lib\\site-packages (from trio~=0.17->selenium) (1.2.0)\n",
      "Requirement already satisfied: async-generator>=1.9 in c:\\users\\user\\desktop\\기컴프_컴사인\\lib\\site-packages (from trio~=0.17->selenium) (1.10)\n",
      "Requirement already satisfied: wsproto>=0.14 in c:\\users\\user\\desktop\\기컴프_컴사인\\lib\\site-packages (from trio-websocket~=0.9->selenium) (1.1.0)\n",
      "Requirement already satisfied: pyOpenSSL>=0.14 in c:\\users\\user\\desktop\\기컴프_컴사인\\lib\\site-packages (from urllib3[secure,socks]~=1.26->selenium) (22.0.0)\n",
      "Requirement already satisfied: cryptography>=1.3.4 in c:\\users\\user\\desktop\\기컴프_컴사인\\lib\\site-packages (from urllib3[secure,socks]~=1.26->selenium) (37.0.2)\n",
      "Requirement already satisfied: certifi in c:\\users\\user\\desktop\\기컴프_컴사인\\lib\\site-packages (from urllib3[secure,socks]~=1.26->selenium) (2022.5.18.1)\n",
      "Requirement already satisfied: PySocks!=1.5.7,<2.0,>=1.5.6 in c:\\users\\user\\desktop\\기컴프_컴사인\\lib\\site-packages (from urllib3[secure,socks]~=1.26->selenium) (1.7.1)\n",
      "Requirement already satisfied: pycparser in c:\\users\\user\\desktop\\기컴프_컴사인\\lib\\site-packages (from cffi>=1.14->trio~=0.17->selenium) (2.21)\n",
      "Requirement already satisfied: h11<1,>=0.9.0 in c:\\users\\user\\desktop\\기컴프_컴사인\\lib\\site-packages (from wsproto>=0.14->trio-websocket~=0.9->selenium) (0.13.0)\n",
      "Note: you may need to restart the kernel to use updated packages.\n"
     ]
    },
    {
     "name": "stderr",
     "output_type": "stream",
     "text": [
      "WARNING: You are using pip version 22.0.4; however, version 22.1 is available.\n",
      "You should consider upgrading via the 'c:\\Users\\user\\Desktop\\기컴프_컴사인\\python.exe -m pip install --upgrade pip' command.\n"
     ]
    }
   ],
   "source": [
    "pip install selenium"
   ]
  },
  {
   "cell_type": "code",
   "execution_count": 16,
   "metadata": {
    "id": "FT-F1ci5BW5w"
   },
   "outputs": [
    {
     "name": "stderr",
     "output_type": "stream",
     "text": [
      "C:\\Users\\user\\AppData\\Local\\Temp\\ipykernel_4396\\2765134080.py:5: DeprecationWarning: executable_path has been deprecated, please pass in a Service object\n",
      "  driver = webdriver.Chrome(executable_path= \"./chromedriver.exe\")\n",
      "C:\\Users\\user\\AppData\\Local\\Temp\\ipykernel_4396\\2765134080.py:13: DeprecationWarning: find_element_by_xpath is deprecated. Please use find_element(by=By.XPATH, value=xpath) instead\n",
      "  serch=driver.find_element_by_xpath('//*[@id=\"ssg-query\"]')\n",
      "C:\\Users\\user\\AppData\\Local\\Temp\\ipykernel_4396\\2765134080.py:15: DeprecationWarning: find_element_by_xpath is deprecated. Please use find_element(by=By.XPATH, value=xpath) instead\n",
      "  driver.find_element_by_xpath('//*[@id=\"ssg-query\"]').send_keys('커피')\n",
      "C:\\Users\\user\\AppData\\Local\\Temp\\ipykernel_4396\\2765134080.py:19: DeprecationWarning: find_element_by_xpath is deprecated. Please use find_element(by=By.XPATH, value=xpath) instead\n",
      "  lister=driver.find_element_by_xpath('//*[@id=\"content\"]/div[7]/div[1]/ul[2]/li[3]/div/a[2]')\n",
      "C:\\Users\\user\\AppData\\Local\\Temp\\ipykernel_4396\\2765134080.py:24: DeprecationWarning: find_elements_by_css_selector is deprecated. Please use find_elements(by=By.CSS_SELECTOR, value=css_selector) instead\n",
      "  items = driver.find_elements_by_css_selector(\".title\")\n"
     ]
    },
    {
     "ename": "StaleElementReferenceException",
     "evalue": "Message: stale element reference: element is not attached to the page document\n  (Session info: chrome=101.0.4951.67)\nStacktrace:\nBacktrace:\n\tOrdinal0 [0x00B8B8F3+2406643]\n\tOrdinal0 [0x00B1AF31+1945393]\n\tOrdinal0 [0x00A0C748+837448]\n\tOrdinal0 [0x00A0F154+848212]\n\tOrdinal0 [0x00A0F012+847890]\n\tOrdinal0 [0x00A0F2A0+848544]\n\tOrdinal0 [0x00A34DBF+1002943]\n\tOrdinal0 [0x00A5427C+1131132]\n\tOrdinal0 [0x00A2FA64+981604]\n\tOrdinal0 [0x00A54494+1131668]\n\tOrdinal0 [0x00A64682+1197698]\n\tOrdinal0 [0x00A54096+1130646]\n\tOrdinal0 [0x00A2E636+976438]\n\tOrdinal0 [0x00A2F546+980294]\n\tGetHandleVerifier [0x00DF9612+2498066]\n\tGetHandleVerifier [0x00DEC920+2445600]\n\tGetHandleVerifier [0x00C24F2A+579370]\n\tGetHandleVerifier [0x00C23D36+574774]\n\tOrdinal0 [0x00B21C0B+1973259]\n\tOrdinal0 [0x00B26688+1992328]\n\tOrdinal0 [0x00B26775+1992565]\n\tOrdinal0 [0x00B2F8D1+2029777]\n\tBaseThreadInitThunk [0x7777FA29+25]\n\tRtlGetAppContainerNamedObjectPath [0x778C7A7E+286]\n\tRtlGetAppContainerNamedObjectPath [0x778C7A4E+238]\n",
     "output_type": "error",
     "traceback": [
      "\u001b[1;31m---------------------------------------------------------------------------\u001b[0m",
      "\u001b[1;31mStaleElementReferenceException\u001b[0m            Traceback (most recent call last)",
      "\u001b[1;32mc:\\Users\\user\\Desktop\\Crawler_collaborate2\\테스트.ipynb Cell 2'\u001b[0m in \u001b[0;36m<cell line: 25>\u001b[1;34m()\u001b[0m\n\u001b[0;32m     <a href='vscode-notebook-cell:/c%3A/Users/user/Desktop/Crawler_collaborate2/%ED%85%8C%EC%8A%A4%ED%8A%B8.ipynb#ch0000001?line=23'>24</a>\u001b[0m items \u001b[39m=\u001b[39m driver\u001b[39m.\u001b[39mfind_elements_by_css_selector(\u001b[39m\"\u001b[39m\u001b[39m.title\u001b[39m\u001b[39m\"\u001b[39m)\n\u001b[0;32m     <a href='vscode-notebook-cell:/c%3A/Users/user/Desktop/Crawler_collaborate2/%ED%85%8C%EC%8A%A4%ED%8A%B8.ipynb#ch0000001?line=24'>25</a>\u001b[0m \u001b[39mfor\u001b[39;00m i \u001b[39min\u001b[39;00m items:\n\u001b[1;32m---> <a href='vscode-notebook-cell:/c%3A/Users/user/Desktop/Crawler_collaborate2/%ED%85%8C%EC%8A%A4%ED%8A%B8.ipynb#ch0000001?line=25'>26</a>\u001b[0m     title \u001b[39m=\u001b[39m i\u001b[39m.\u001b[39;49mtext\n\u001b[0;32m     <a href='vscode-notebook-cell:/c%3A/Users/user/Desktop/Crawler_collaborate2/%ED%85%8C%EC%8A%A4%ED%8A%B8.ipynb#ch0000001?line=26'>27</a>\u001b[0m     \u001b[39mprint\u001b[39m(title)\n\u001b[0;32m     <a href='vscode-notebook-cell:/c%3A/Users/user/Desktop/Crawler_collaborate2/%ED%85%8C%EC%8A%A4%ED%8A%B8.ipynb#ch0000001?line=31'>32</a>\u001b[0m \u001b[39mtry\u001b[39;00m:\n",
      "File \u001b[1;32mc:\\Users\\user\\Desktop\\기컴프_컴사인\\lib\\site-packages\\selenium\\webdriver\\remote\\webelement.py:77\u001b[0m, in \u001b[0;36mWebElement.text\u001b[1;34m(self)\u001b[0m\n\u001b[0;32m     <a href='file:///c%3A/Users/user/Desktop/%EA%B8%B0%EC%BB%B4%ED%94%84_%EC%BB%B4%EC%82%AC%EC%9D%B8/lib/site-packages/selenium/webdriver/remote/webelement.py?line=73'>74</a>\u001b[0m \u001b[39m@property\u001b[39m\n\u001b[0;32m     <a href='file:///c%3A/Users/user/Desktop/%EA%B8%B0%EC%BB%B4%ED%94%84_%EC%BB%B4%EC%82%AC%EC%9D%B8/lib/site-packages/selenium/webdriver/remote/webelement.py?line=74'>75</a>\u001b[0m \u001b[39mdef\u001b[39;00m \u001b[39mtext\u001b[39m(\u001b[39mself\u001b[39m) \u001b[39m-\u001b[39m\u001b[39m>\u001b[39m \u001b[39mstr\u001b[39m:\n\u001b[0;32m     <a href='file:///c%3A/Users/user/Desktop/%EA%B8%B0%EC%BB%B4%ED%94%84_%EC%BB%B4%EC%82%AC%EC%9D%B8/lib/site-packages/selenium/webdriver/remote/webelement.py?line=75'>76</a>\u001b[0m     \u001b[39m\"\"\"The text of the element.\"\"\"\u001b[39;00m\n\u001b[1;32m---> <a href='file:///c%3A/Users/user/Desktop/%EA%B8%B0%EC%BB%B4%ED%94%84_%EC%BB%B4%EC%82%AC%EC%9D%B8/lib/site-packages/selenium/webdriver/remote/webelement.py?line=76'>77</a>\u001b[0m     \u001b[39mreturn\u001b[39;00m \u001b[39mself\u001b[39;49m\u001b[39m.\u001b[39;49m_execute(Command\u001b[39m.\u001b[39;49mGET_ELEMENT_TEXT)[\u001b[39m'\u001b[39m\u001b[39mvalue\u001b[39m\u001b[39m'\u001b[39m]\n",
      "File \u001b[1;32mc:\\Users\\user\\Desktop\\기컴프_컴사인\\lib\\site-packages\\selenium\\webdriver\\remote\\webelement.py:740\u001b[0m, in \u001b[0;36mWebElement._execute\u001b[1;34m(self, command, params)\u001b[0m\n\u001b[0;32m    <a href='file:///c%3A/Users/user/Desktop/%EA%B8%B0%EC%BB%B4%ED%94%84_%EC%BB%B4%EC%82%AC%EC%9D%B8/lib/site-packages/selenium/webdriver/remote/webelement.py?line=737'>738</a>\u001b[0m     params \u001b[39m=\u001b[39m {}\n\u001b[0;32m    <a href='file:///c%3A/Users/user/Desktop/%EA%B8%B0%EC%BB%B4%ED%94%84_%EC%BB%B4%EC%82%AC%EC%9D%B8/lib/site-packages/selenium/webdriver/remote/webelement.py?line=738'>739</a>\u001b[0m params[\u001b[39m'\u001b[39m\u001b[39mid\u001b[39m\u001b[39m'\u001b[39m] \u001b[39m=\u001b[39m \u001b[39mself\u001b[39m\u001b[39m.\u001b[39m_id\n\u001b[1;32m--> <a href='file:///c%3A/Users/user/Desktop/%EA%B8%B0%EC%BB%B4%ED%94%84_%EC%BB%B4%EC%82%AC%EC%9D%B8/lib/site-packages/selenium/webdriver/remote/webelement.py?line=739'>740</a>\u001b[0m \u001b[39mreturn\u001b[39;00m \u001b[39mself\u001b[39;49m\u001b[39m.\u001b[39;49m_parent\u001b[39m.\u001b[39;49mexecute(command, params)\n",
      "File \u001b[1;32mc:\\Users\\user\\Desktop\\기컴프_컴사인\\lib\\site-packages\\selenium\\webdriver\\remote\\webdriver.py:430\u001b[0m, in \u001b[0;36mWebDriver.execute\u001b[1;34m(self, driver_command, params)\u001b[0m\n\u001b[0;32m    <a href='file:///c%3A/Users/user/Desktop/%EA%B8%B0%EC%BB%B4%ED%94%84_%EC%BB%B4%EC%82%AC%EC%9D%B8/lib/site-packages/selenium/webdriver/remote/webdriver.py?line=427'>428</a>\u001b[0m response \u001b[39m=\u001b[39m \u001b[39mself\u001b[39m\u001b[39m.\u001b[39mcommand_executor\u001b[39m.\u001b[39mexecute(driver_command, params)\n\u001b[0;32m    <a href='file:///c%3A/Users/user/Desktop/%EA%B8%B0%EC%BB%B4%ED%94%84_%EC%BB%B4%EC%82%AC%EC%9D%B8/lib/site-packages/selenium/webdriver/remote/webdriver.py?line=428'>429</a>\u001b[0m \u001b[39mif\u001b[39;00m response:\n\u001b[1;32m--> <a href='file:///c%3A/Users/user/Desktop/%EA%B8%B0%EC%BB%B4%ED%94%84_%EC%BB%B4%EC%82%AC%EC%9D%B8/lib/site-packages/selenium/webdriver/remote/webdriver.py?line=429'>430</a>\u001b[0m     \u001b[39mself\u001b[39;49m\u001b[39m.\u001b[39;49merror_handler\u001b[39m.\u001b[39;49mcheck_response(response)\n\u001b[0;32m    <a href='file:///c%3A/Users/user/Desktop/%EA%B8%B0%EC%BB%B4%ED%94%84_%EC%BB%B4%EC%82%AC%EC%9D%B8/lib/site-packages/selenium/webdriver/remote/webdriver.py?line=430'>431</a>\u001b[0m     response[\u001b[39m'\u001b[39m\u001b[39mvalue\u001b[39m\u001b[39m'\u001b[39m] \u001b[39m=\u001b[39m \u001b[39mself\u001b[39m\u001b[39m.\u001b[39m_unwrap_value(\n\u001b[0;32m    <a href='file:///c%3A/Users/user/Desktop/%EA%B8%B0%EC%BB%B4%ED%94%84_%EC%BB%B4%EC%82%AC%EC%9D%B8/lib/site-packages/selenium/webdriver/remote/webdriver.py?line=431'>432</a>\u001b[0m         response\u001b[39m.\u001b[39mget(\u001b[39m'\u001b[39m\u001b[39mvalue\u001b[39m\u001b[39m'\u001b[39m, \u001b[39mNone\u001b[39;00m))\n\u001b[0;32m    <a href='file:///c%3A/Users/user/Desktop/%EA%B8%B0%EC%BB%B4%ED%94%84_%EC%BB%B4%EC%82%AC%EC%9D%B8/lib/site-packages/selenium/webdriver/remote/webdriver.py?line=432'>433</a>\u001b[0m     \u001b[39mreturn\u001b[39;00m response\n",
      "File \u001b[1;32mc:\\Users\\user\\Desktop\\기컴프_컴사인\\lib\\site-packages\\selenium\\webdriver\\remote\\errorhandler.py:247\u001b[0m, in \u001b[0;36mErrorHandler.check_response\u001b[1;34m(self, response)\u001b[0m\n\u001b[0;32m    <a href='file:///c%3A/Users/user/Desktop/%EA%B8%B0%EC%BB%B4%ED%94%84_%EC%BB%B4%EC%82%AC%EC%9D%B8/lib/site-packages/selenium/webdriver/remote/errorhandler.py?line=244'>245</a>\u001b[0m         alert_text \u001b[39m=\u001b[39m value[\u001b[39m'\u001b[39m\u001b[39malert\u001b[39m\u001b[39m'\u001b[39m]\u001b[39m.\u001b[39mget(\u001b[39m'\u001b[39m\u001b[39mtext\u001b[39m\u001b[39m'\u001b[39m)\n\u001b[0;32m    <a href='file:///c%3A/Users/user/Desktop/%EA%B8%B0%EC%BB%B4%ED%94%84_%EC%BB%B4%EC%82%AC%EC%9D%B8/lib/site-packages/selenium/webdriver/remote/errorhandler.py?line=245'>246</a>\u001b[0m     \u001b[39mraise\u001b[39;00m exception_class(message, screen, stacktrace, alert_text)  \u001b[39m# type: ignore[call-arg]  # mypy is not smart enough here\u001b[39;00m\n\u001b[1;32m--> <a href='file:///c%3A/Users/user/Desktop/%EA%B8%B0%EC%BB%B4%ED%94%84_%EC%BB%B4%EC%82%AC%EC%9D%B8/lib/site-packages/selenium/webdriver/remote/errorhandler.py?line=246'>247</a>\u001b[0m \u001b[39mraise\u001b[39;00m exception_class(message, screen, stacktrace)\n",
      "\u001b[1;31mStaleElementReferenceException\u001b[0m: Message: stale element reference: element is not attached to the page document\n  (Session info: chrome=101.0.4951.67)\nStacktrace:\nBacktrace:\n\tOrdinal0 [0x00B8B8F3+2406643]\n\tOrdinal0 [0x00B1AF31+1945393]\n\tOrdinal0 [0x00A0C748+837448]\n\tOrdinal0 [0x00A0F154+848212]\n\tOrdinal0 [0x00A0F012+847890]\n\tOrdinal0 [0x00A0F2A0+848544]\n\tOrdinal0 [0x00A34DBF+1002943]\n\tOrdinal0 [0x00A5427C+1131132]\n\tOrdinal0 [0x00A2FA64+981604]\n\tOrdinal0 [0x00A54494+1131668]\n\tOrdinal0 [0x00A64682+1197698]\n\tOrdinal0 [0x00A54096+1130646]\n\tOrdinal0 [0x00A2E636+976438]\n\tOrdinal0 [0x00A2F546+980294]\n\tGetHandleVerifier [0x00DF9612+2498066]\n\tGetHandleVerifier [0x00DEC920+2445600]\n\tGetHandleVerifier [0x00C24F2A+579370]\n\tGetHandleVerifier [0x00C23D36+574774]\n\tOrdinal0 [0x00B21C0B+1973259]\n\tOrdinal0 [0x00B26688+1992328]\n\tOrdinal0 [0x00B26775+1992565]\n\tOrdinal0 [0x00B2F8D1+2029777]\n\tBaseThreadInitThunk [0x7777FA29+25]\n\tRtlGetAppContainerNamedObjectPath [0x778C7A7E+286]\n\tRtlGetAppContainerNamedObjectPath [0x778C7A4E+238]\n"
     ]
    }
   ],
   "source": [
    "from selenium import webdriver\n",
    "from selenium.webdriver.common.keys import Keys\n",
    "import time\n",
    "\n",
    "driver = webdriver.Chrome(executable_path= \"./chromedriver.exe\")\n",
    "\n",
    "url = \"https://www.ssg.com/main.ssg?ckwhere=ssg_gglekey&EKAMS=google.723.5136.21350.2033663.600584667&trackingDays=1&gclid=Cj0KCQjwm6KUBhC3ARIsACIwxBidNxkdJm0IWVl-IHfYKUV-83cJ3HEjhL4jatHFsD80HU_LTiAjlLEaAkb-EALw_wcB\"\n",
    "driver.get(url)\n",
    "\n",
    "\n",
    "time.sleep(1)\n",
    "\n",
    "serch=driver.find_element_by_xpath('//*[@id=\"ssg-query\"]')\n",
    "serch.click()\n",
    "driver.find_element_by_xpath('//*[@id=\"ssg-query\"]').send_keys('커피')\n",
    "serch.send_keys(Keys.ENTER)\n",
    "\n",
    "\n",
    "lister=driver.find_element_by_xpath('//*[@id=\"content\"]/div[7]/div[1]/ul[2]/li[3]/div/a[2]')\n",
    "lister.click()\n",
    "\n",
    "\n",
    "try:\n",
    "  name = driver.find_element_by_xpath(f'//*[@id=\"item_unit_0000007024783\"]/td[2]/div/div[2]/div/a').text\n",
    "  print(f'---{name}---')\n",
    "except:\n",
    "  name = \"NAN\"\n",
    "  pass\n",
    "  print(f'---{name}---')"
   ]
  }
 ],
 "metadata": {
  "interpreter": {
   "hash": "efb3f54ef8911dc914f55a9af49f3bbe71028ec86225638d8d432e62c4927c8f"
  },
  "kernelspec": {
   "display_name": "Python 3.9.13 64-bit",
   "language": "python",
   "name": "python3"
  },
  "language_info": {
   "codemirror_mode": {
    "name": "ipython",
    "version": 3
   },
   "file_extension": ".py",
   "mimetype": "text/x-python",
   "name": "python",
   "nbconvert_exporter": "python",
   "pygments_lexer": "ipython3",
   "version": "3.9.13"
  },
  "orig_nbformat": 4
 },
 "nbformat": 4,
 "nbformat_minor": 2
}
