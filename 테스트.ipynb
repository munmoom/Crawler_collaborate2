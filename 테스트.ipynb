{
 "cells": [
  {
   "cell_type": "code",
   "execution_count": null,
   "metadata": {},
   "outputs": [],
   "source": [
    "pip install selenium"
   ]
  },
  {
   "cell_type": "code",
   "execution_count": null,
   "metadata": {
    "id": "FT-F1ci5BW5w"
   },
   "outputs": [],
   "source": [
    "from selenium import webdriver\n",
    "from selenium.webdriver.common.keys import Keys\n",
    "import time\n",
    "\n",
    "driver = webdriver.Chrome(executable_path= \"./chromedriver.exe\")\n",
    "\n",
    "url = \"https://shopping.naver.com/home/p/index.naver\"\n",
    "driver.get(url)\n",
    "\n",
    "time.sleep(1)\n",
    "\n",
    "serch=driver.find_element_by_xpath('//*[@id=\"_verticalGnbModule\"]/div/div/div[2]/div/div[2]/form/fieldset/div/input')\n",
    "serch.click()\n",
    "driver.find_element_by_xpath('//*[@id=\"_verticalGnbModule\"]/div/div/div[2]/div/div[2]/form/fieldset/div/input').send_keys('커피')\n",
    "serch.send_keys(Keys.ENTER)\n",
    "\n",
    "serch=driver.find_element_by_xpath('//*[@id=\"__next\"]/div/div[2]/div[2]/div[3]/div[1]/div[1]/div/div[2]/div[3]/a')\n",
    "serch.click()\n",
    "\n",
    "serch=driver.find_element_by_xpath('//*[@id=\"__next\"]/div/div[2]/div[2]/div[3]/div[1]/div[1]/div/div[2]/div[3]/ul/li[1]/a')\n",
    "serch.click()\n",
    "\n",
    "serch=driver.find_element_by_xpath('//*[@id=\"__next\"]/div/div[2]/div[2]/div[3]/div[1]/div[1]/div/div[1]/a[4]')\n",
    "serch.click()\n",
    "\n",
    "driver.execute_script(\"window.scrollTo(0, 10000)\")\n",
    "driver.execute_script(\"window.scrollTo(10000, 0)\")\n",
    "\n",
    "\n",
    "li=[]\n",
    "\n",
    "while True:\n",
    " for j in range(1, 21):\n",
    "   n = len(li)\n",
    "   try:\n",
    "     name = driver.find_element_by_xpath(f'//*[@id=\"__next\"]/div/div[2]/div[2]/div[3]/div[1]/ul/div/div[{j}]/li/div/div[2]/div[1]/a').text\n",
    "     li.append(name)\n",
    "     if len(li) == n:\n",
    "      name = driver.find_element_by_xpath(f'//*[@id=\"__next\"]/div/div[2]/div[2]/div[3]/div[1]/ul/div/div[{j}]/li/div[1]/div[2]/div[1]/a').text\n",
    "      li.append(name)\n",
    "   except:\n",
    "     name = \"NAN\"\n",
    "     pass\n",
    " if len(li) == 20:\n",
    "     break\n",
    "\n",
    "print(li)\n"
   ]
  },
  {
   "cell_type": "code",
   "execution_count": 4,
   "metadata": {},
   "outputs": [
    {
     "name": "stdout",
     "output_type": "stream",
     "text": [
      "Collecting pandas\n",
      "  Downloading pandas-1.4.2-cp39-cp39-win_amd64.whl (10.5 MB)\n",
      "     ---------------------------------------- 10.5/10.5 MB 5.6 MB/s eta 0:00:00\n",
      "Requirement already satisfied: python-dateutil>=2.8.1 in c:\\users\\user\\desktop\\기컴프_컴사인\\lib\\site-packages (from pandas) (2.8.2)\n",
      "Collecting numpy>=1.18.5\n",
      "  Downloading numpy-1.22.4-cp39-cp39-win_amd64.whl (14.7 MB)\n",
      "     ---------------------------------------- 14.7/14.7 MB 3.9 MB/s eta 0:00:00\n",
      "Collecting pytz>=2020.1\n",
      "  Downloading pytz-2022.1-py2.py3-none-any.whl (503 kB)\n",
      "     -------------------------------------- 503.5/503.5 KB 3.2 MB/s eta 0:00:00\n",
      "Requirement already satisfied: six>=1.5 in c:\\users\\user\\desktop\\기컴프_컴사인\\lib\\site-packages (from python-dateutil>=2.8.1->pandas) (1.16.0)\n",
      "Installing collected packages: pytz, numpy, pandas\n",
      "Successfully installed numpy-1.22.4 pandas-1.4.2 pytz-2022.1\n",
      "Note: you may need to restart the kernel to use updated packages.\n"
     ]
    },
    {
     "name": "stderr",
     "output_type": "stream",
     "text": [
      "WARNING: You are using pip version 22.0.4; however, version 22.1 is available.\n",
      "You should consider upgrading via the 'c:\\Users\\user\\Desktop\\기컴프_컴사인\\python.exe -m pip install --upgrade pip' command.\n"
     ]
    }
   ],
   "source": [
    "pip install pandas"
   ]
  },
  {
   "cell_type": "code",
   "execution_count": 5,
   "metadata": {},
   "outputs": [
    {
     "data": {
      "text/plain": [
       "1               일리 캡슐 커피(네스프레소 호환 스타벅스 로르 네스카페) 개별포장 7개\n",
       "2                   일리 캡슐 커피(네스프레소 호환 캡슐 스타벅스 캡슐)개별포장8개\n",
       "3          [3+ ] 네스카페 돌체구스토 커피 캡슐 디카페인 라떼 아이스 아메리카노 32종\n",
       "4                       네스프레소 호환 일리 스타벅스 라바짜 캡슐 분쇄커피 포함\n",
       "5                   하이드로더치 하이드로 더치커피 콜드브루 8종 10+10+2팩 외\n",
       "6     1kg 원두커피 10+1 특가제외 당일 로스팅 신선한 갓볶은 만델링 에티오피아 케냐...\n",
       "7                             일리 캡슐 스타벅스 네스프레소 호환 캡슐 커피\n",
       "8             일리 캡슐 커피 스타벅스 라바짜 캡슐 디카페인 최저 (네스프레소 호환포함)\n",
       "9                   [T멤버쉽 11%]맥심 모카골드 360T / 화이트골드 360T\n",
       "10     일리 캡슐 커피 (네스프레소 호환 캡슐 스타벅스 캡슐 라바짜) 10 18 21 개별포장\n",
       "11                             맥심 맥심 모카골드 180Tx2개 총360T\n",
       "12                                                 원두커피\n",
       "13               [4+1] 네스카페 돌체구스토 캡슐 커피 모음전 아메리카노 룽고 라떼\n",
       "14                          [본사직영몰] 네스카페 돌체구스토 캡슐커피 모음전\n",
       "15                       [본사직영몰] 스타벅스 캡슐커피 by 돌체구스토 10종\n",
       "16                        갓볶은 신선한 드립백 원두커피 68종(10g/1티백)\n",
       "17                            일리 캡슐 커피 스타벅스 네스프레소 호환 캡슐\n",
       "18                           G7 블랙 퓨어블랙 인스턴트커피 100개입 1개\n",
       "19                        10+10+10 하이드로 더치커피 콜드브루 원두 커피\n",
       "20                             맥심 모카골드 360T /화이트골드 360T\n",
       "dtype: object"
      ]
     },
     "execution_count": 5,
     "metadata": {},
     "output_type": "execute_result"
    }
   ],
   "source": [
    "import pandas as pd\n",
    "ind = [1, 2, 3, 4, 5, 6, 7, 8, 9, 10, 11, 12, 13, 14, 15, 16, 17, 18, 19, 20]\n",
    "sr = pd.Series(li, index =  ind)\n",
    "sr"
   ]
  },
  {
   "cell_type": "code",
   "execution_count": 7,
   "metadata": {},
   "outputs": [
    {
     "data": {
      "text/html": [
       "<div>\n",
       "<style scoped>\n",
       "    .dataframe tbody tr th:only-of-type {\n",
       "        vertical-align: middle;\n",
       "    }\n",
       "\n",
       "    .dataframe tbody tr th {\n",
       "        vertical-align: top;\n",
       "    }\n",
       "\n",
       "    .dataframe thead th {\n",
       "        text-align: right;\n",
       "    }\n",
       "</style>\n",
       "<table border=\"1\" class=\"dataframe\">\n",
       "  <thead>\n",
       "    <tr style=\"text-align: right;\">\n",
       "      <th></th>\n",
       "      <th>상품</th>\n",
       "    </tr>\n",
       "  </thead>\n",
       "  <tbody>\n",
       "    <tr>\n",
       "      <th>0</th>\n",
       "      <td>일리 캡슐 커피(네스프레소 호환 스타벅스 로르 네스카페) 개별포장 7개</td>\n",
       "    </tr>\n",
       "    <tr>\n",
       "      <th>1</th>\n",
       "      <td>일리 캡슐 커피(네스프레소 호환 캡슐 스타벅스 캡슐)개별포장8개</td>\n",
       "    </tr>\n",
       "    <tr>\n",
       "      <th>2</th>\n",
       "      <td>[3+ ] 네스카페 돌체구스토 커피 캡슐 디카페인 라떼 아이스 아메리카노 32종</td>\n",
       "    </tr>\n",
       "    <tr>\n",
       "      <th>3</th>\n",
       "      <td>네스프레소 호환 일리 스타벅스 라바짜 캡슐 분쇄커피 포함</td>\n",
       "    </tr>\n",
       "    <tr>\n",
       "      <th>4</th>\n",
       "      <td>하이드로더치 하이드로 더치커피 콜드브루 8종 10+10+2팩 외</td>\n",
       "    </tr>\n",
       "    <tr>\n",
       "      <th>5</th>\n",
       "      <td>1kg 원두커피 10+1 특가제외 당일 로스팅 신선한 갓볶은 만델링 에티오피아 케냐...</td>\n",
       "    </tr>\n",
       "    <tr>\n",
       "      <th>6</th>\n",
       "      <td>일리 캡슐 스타벅스 네스프레소 호환 캡슐 커피</td>\n",
       "    </tr>\n",
       "    <tr>\n",
       "      <th>7</th>\n",
       "      <td>일리 캡슐 커피 스타벅스 라바짜 캡슐 디카페인 최저 (네스프레소 호환포함)</td>\n",
       "    </tr>\n",
       "    <tr>\n",
       "      <th>8</th>\n",
       "      <td>[T멤버쉽 11%]맥심 모카골드 360T / 화이트골드 360T</td>\n",
       "    </tr>\n",
       "    <tr>\n",
       "      <th>9</th>\n",
       "      <td>일리 캡슐 커피 (네스프레소 호환 캡슐 스타벅스 캡슐 라바짜) 10 18 21 개별포장</td>\n",
       "    </tr>\n",
       "    <tr>\n",
       "      <th>10</th>\n",
       "      <td>맥심 맥심 모카골드 180Tx2개 총360T</td>\n",
       "    </tr>\n",
       "    <tr>\n",
       "      <th>11</th>\n",
       "      <td>원두커피</td>\n",
       "    </tr>\n",
       "    <tr>\n",
       "      <th>12</th>\n",
       "      <td>[4+1] 네스카페 돌체구스토 캡슐 커피 모음전 아메리카노 룽고 라떼</td>\n",
       "    </tr>\n",
       "    <tr>\n",
       "      <th>13</th>\n",
       "      <td>[본사직영몰] 네스카페 돌체구스토 캡슐커피 모음전</td>\n",
       "    </tr>\n",
       "    <tr>\n",
       "      <th>14</th>\n",
       "      <td>[본사직영몰] 스타벅스 캡슐커피 by 돌체구스토 10종</td>\n",
       "    </tr>\n",
       "    <tr>\n",
       "      <th>15</th>\n",
       "      <td>갓볶은 신선한 드립백 원두커피 68종(10g/1티백)</td>\n",
       "    </tr>\n",
       "    <tr>\n",
       "      <th>16</th>\n",
       "      <td>일리 캡슐 커피 스타벅스 네스프레소 호환 캡슐</td>\n",
       "    </tr>\n",
       "    <tr>\n",
       "      <th>17</th>\n",
       "      <td>G7 블랙 퓨어블랙 인스턴트커피 100개입 1개</td>\n",
       "    </tr>\n",
       "    <tr>\n",
       "      <th>18</th>\n",
       "      <td>10+10+10 하이드로 더치커피 콜드브루 원두 커피</td>\n",
       "    </tr>\n",
       "    <tr>\n",
       "      <th>19</th>\n",
       "      <td>맥심 모카골드 360T /화이트골드 360T</td>\n",
       "    </tr>\n",
       "  </tbody>\n",
       "</table>\n",
       "</div>"
      ],
      "text/plain": [
       "                                                   상품\n",
       "0             일리 캡슐 커피(네스프레소 호환 스타벅스 로르 네스카페) 개별포장 7개\n",
       "1                 일리 캡슐 커피(네스프레소 호환 캡슐 스타벅스 캡슐)개별포장8개\n",
       "2        [3+ ] 네스카페 돌체구스토 커피 캡슐 디카페인 라떼 아이스 아메리카노 32종\n",
       "3                     네스프레소 호환 일리 스타벅스 라바짜 캡슐 분쇄커피 포함\n",
       "4                 하이드로더치 하이드로 더치커피 콜드브루 8종 10+10+2팩 외\n",
       "5   1kg 원두커피 10+1 특가제외 당일 로스팅 신선한 갓볶은 만델링 에티오피아 케냐...\n",
       "6                           일리 캡슐 스타벅스 네스프레소 호환 캡슐 커피\n",
       "7           일리 캡슐 커피 스타벅스 라바짜 캡슐 디카페인 최저 (네스프레소 호환포함)\n",
       "8                 [T멤버쉽 11%]맥심 모카골드 360T / 화이트골드 360T\n",
       "9    일리 캡슐 커피 (네스프레소 호환 캡슐 스타벅스 캡슐 라바짜) 10 18 21 개별포장\n",
       "10                           맥심 맥심 모카골드 180Tx2개 총360T\n",
       "11                                               원두커피\n",
       "12             [4+1] 네스카페 돌체구스토 캡슐 커피 모음전 아메리카노 룽고 라떼\n",
       "13                        [본사직영몰] 네스카페 돌체구스토 캡슐커피 모음전\n",
       "14                     [본사직영몰] 스타벅스 캡슐커피 by 돌체구스토 10종\n",
       "15                      갓볶은 신선한 드립백 원두커피 68종(10g/1티백)\n",
       "16                          일리 캡슐 커피 스타벅스 네스프레소 호환 캡슐\n",
       "17                         G7 블랙 퓨어블랙 인스턴트커피 100개입 1개\n",
       "18                      10+10+10 하이드로 더치커피 콜드브루 원두 커피\n",
       "19                           맥심 모카골드 360T /화이트골드 360T"
      ]
     },
     "execution_count": 7,
     "metadata": {},
     "output_type": "execute_result"
    }
   ],
   "source": [
    "df=pd.DataFrame()\n",
    "df['상품'] = li\n",
    "df"
   ]
  }
 ],
 "metadata": {
  "interpreter": {
   "hash": "efb3f54ef8911dc914f55a9af49f3bbe71028ec86225638d8d432e62c4927c8f"
  },
  "kernelspec": {
   "display_name": "Python 3.9.13 64-bit",
   "language": "python",
   "name": "python3"
  },
  "language_info": {
   "codemirror_mode": {
    "name": "ipython",
    "version": 3
   },
   "file_extension": ".py",
   "mimetype": "text/x-python",
   "name": "python",
   "nbconvert_exporter": "python",
   "pygments_lexer": "ipython3",
   "version": "3.9.13"
  },
  "orig_nbformat": 4
 },
 "nbformat": 4,
 "nbformat_minor": 2
}
