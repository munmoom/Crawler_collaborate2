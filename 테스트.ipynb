{
 "cells": [
  {
   "cell_type": "code",
   "execution_count": null,
   "metadata": {},
   "outputs": [],
   "source": [
    "pip install selenium"
   ]
  },
  {
   "cell_type": "code",
   "execution_count": 22,
   "metadata": {
    "id": "FT-F1ci5BW5w"
   },
   "outputs": [
    {
     "name": "stderr",
     "output_type": "stream",
     "text": [
      "C:\\Users\\user\\AppData\\Local\\Temp\\ipykernel_4396\\2213030201.py:5: DeprecationWarning: executable_path has been deprecated, please pass in a Service object\n",
      "  driver = webdriver.Chrome(executable_path= \"./chromedriver.exe\")\n",
      "C:\\Users\\user\\AppData\\Local\\Temp\\ipykernel_4396\\2213030201.py:13: DeprecationWarning: find_element_by_xpath is deprecated. Please use find_element(by=By.XPATH, value=xpath) instead\n",
      "  serch=driver.find_element_by_xpath('//*[@id=\"ssg-query\"]')\n",
      "C:\\Users\\user\\AppData\\Local\\Temp\\ipykernel_4396\\2213030201.py:15: DeprecationWarning: find_element_by_xpath is deprecated. Please use find_element(by=By.XPATH, value=xpath) instead\n",
      "  driver.find_element_by_xpath('//*[@id=\"ssg-query\"]').send_keys('커피')\n",
      "C:\\Users\\user\\AppData\\Local\\Temp\\ipykernel_4396\\2213030201.py:19: DeprecationWarning: find_element_by_xpath is deprecated. Please use find_element(by=By.XPATH, value=xpath) instead\n",
      "  lister=driver.find_element_by_xpath('//*[@id=\"content\"]/div[7]/div[1]/ul[2]/li[3]/div/a[2]')\n",
      "C:\\Users\\user\\AppData\\Local\\Temp\\ipykernel_4396\\2213030201.py:22: DeprecationWarning: find_element_by_xpath is deprecated. Please use find_element(by=By.XPATH, value=xpath) instead\n",
      "  serch=driver.find_element_by_xpath('//*[@id=\"content\"]/div[7]/div[1]/ul[2]/li[2]/div/div/a/span[2]')\n",
      "C:\\Users\\user\\AppData\\Local\\Temp\\ipykernel_4396\\2213030201.py:25: DeprecationWarning: find_element_by_xpath is deprecated. Please use find_element(by=By.XPATH, value=xpath) instead\n",
      "  serch=driver.find_element_by_xpath('//*[@id=\"content\"]/div[7]/div[1]/ul[2]/li[2]/div/div/div/ul/li[1]/a/span')\n",
      "C:\\Users\\user\\AppData\\Local\\Temp\\ipykernel_4396\\2213030201.py:29: DeprecationWarning: find_elements_by_css_selector is deprecated. Please use find_elements(by=By.CSS_SELECTOR, value=css_selector) instead\n",
      "  item_names = driver.find_elements_by_css_selector(\"cunit_md\")\n"
     ]
    }
   ],
   "source": [
    "from selenium import webdriver\n",
    "from selenium.webdriver.common.keys import Keys\n",
    "import time\n",
    "\n",
    "driver = webdriver.Chrome(executable_path= \"./chromedriver.exe\")\n",
    "\n",
    "url = \"https://www.ssg.com/main.ssg?ckwhere=ssg_gglekey&EKAMS=google.723.5136.21350.2033663.600584667&trackingDays=1&gclid=Cj0KCQjwm6KUBhC3ARIsACIwxBidNxkdJm0IWVl-IHfYKUV-83cJ3HEjhL4jatHFsD80HU_LTiAjlLEaAkb-EALw_wcB\"\n",
    "driver.get(url)\n",
    "\n",
    "\n",
    "time.sleep(1)\n",
    "\n",
    "serch=driver.find_element_by_xpath('//*[@id=\"ssg-query\"]')\n",
    "serch.click()\n",
    "driver.find_element_by_xpath('//*[@id=\"ssg-query\"]').send_keys('커피')\n",
    "serch.send_keys(Keys.ENTER)\n",
    "\n",
    "\n",
    "lister=driver.find_element_by_xpath('//*[@id=\"content\"]/div[7]/div[1]/ul[2]/li[3]/div/a[2]')\n",
    "lister.click()\n",
    "\n",
    "serch=driver.find_element_by_xpath('//*[@id=\"content\"]/div[7]/div[1]/ul[2]/li[2]/div/div/a/span[2]')\n",
    "serch.click()\n",
    "\n",
    "serch=driver.find_element_by_xpath('//*[@id=\"content\"]/div[7]/div[1]/ul[2]/li[2]/div/div/div/ul/li[1]/a/span')\n",
    "serch.click()\n",
    "\n",
    "\n",
    "item_names = driver.find_elements_by_css_selector(\"cunit_md\")\n",
    "\n",
    "for i in item_names:\n",
    "    name = i.text\n",
    "    print(name)\n"
   ]
  }
 ],
 "metadata": {
  "interpreter": {
   "hash": "efb3f54ef8911dc914f55a9af49f3bbe71028ec86225638d8d432e62c4927c8f"
  },
  "kernelspec": {
   "display_name": "Python 3.9.13 64-bit",
   "language": "python",
   "name": "python3"
  },
  "language_info": {
   "codemirror_mode": {
    "name": "ipython",
    "version": 3
   },
   "file_extension": ".py",
   "mimetype": "text/x-python",
   "name": "python",
   "nbconvert_exporter": "python",
   "pygments_lexer": "ipython3",
   "version": "3.9.13"
  },
  "orig_nbformat": 4
 },
 "nbformat": 4,
 "nbformat_minor": 2
}
