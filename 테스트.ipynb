{
 "cells": [
  {
   "cell_type": "code",
   "execution_count": null,
   "metadata": {},
   "outputs": [],
   "source": [
    "pip install selenium"
   ]
  },
  {
   "cell_type": "code",
   "execution_count": 2,
   "metadata": {
    "id": "FT-F1ci5BW5w"
   },
   "outputs": [
    {
     "name": "stderr",
     "output_type": "stream",
     "text": [
      "C:\\Users\\user\\AppData\\Local\\Temp\\ipykernel_18976\\1608958668.py:5: DeprecationWarning: executable_path has been deprecated, please pass in a Service object\n",
      "  driver = webdriver.Chrome(executable_path= \"./chromedriver.exe\")\n",
      "C:\\Users\\user\\AppData\\Local\\Temp\\ipykernel_18976\\1608958668.py:13: DeprecationWarning: find_element_by_xpath is deprecated. Please use find_element(by=By.XPATH, value=xpath) instead\n",
      "  serch=driver.find_element_by_xpath('//*[@id=\"_verticalGnbModule\"]/div/div/div[2]/div/div[2]/form/fieldset/div/input')\n",
      "C:\\Users\\user\\AppData\\Local\\Temp\\ipykernel_18976\\1608958668.py:15: DeprecationWarning: find_element_by_xpath is deprecated. Please use find_element(by=By.XPATH, value=xpath) instead\n",
      "  driver.find_element_by_xpath('//*[@id=\"_verticalGnbModule\"]/div/div/div[2]/div/div[2]/form/fieldset/div/input').send_keys('커피')\n",
      "C:\\Users\\user\\AppData\\Local\\Temp\\ipykernel_18976\\1608958668.py:18: DeprecationWarning: find_element_by_xpath is deprecated. Please use find_element(by=By.XPATH, value=xpath) instead\n",
      "  serch=driver.find_element_by_xpath('//*[@id=\"__next\"]/div/div[2]/div[2]/div[3]/div[1]/div[1]/div/div[2]/div[3]/a')\n",
      "C:\\Users\\user\\AppData\\Local\\Temp\\ipykernel_18976\\1608958668.py:21: DeprecationWarning: find_element_by_xpath is deprecated. Please use find_element(by=By.XPATH, value=xpath) instead\n",
      "  serch=driver.find_element_by_xpath('//*[@id=\"__next\"]/div/div[2]/div[2]/div[3]/div[1]/div[1]/div/div[2]/div[3]/ul/li[1]/a')\n",
      "C:\\Users\\user\\AppData\\Local\\Temp\\ipykernel_18976\\1608958668.py:24: DeprecationWarning: find_element_by_xpath is deprecated. Please use find_element(by=By.XPATH, value=xpath) instead\n",
      "  serch=driver.find_element_by_xpath('//*[@id=\"__next\"]/div/div[2]/div[2]/div[3]/div[1]/div[1]/div/div[1]/a[4]')\n",
      "C:\\Users\\user\\AppData\\Local\\Temp\\ipykernel_18976\\1608958668.py:32: DeprecationWarning: find_element_by_xpath is deprecated. Please use find_element(by=By.XPATH, value=xpath) instead\n",
      "  name = driver.find_element_by_xpath(f'//*[@id=\"__next\"]/div/div[2]/div[2]/div[3]/div[1]/ul/div/div[{j}]/li/div/div[2]/div[1]/a').text\n",
      "C:\\Users\\user\\AppData\\Local\\Temp\\ipykernel_18976\\1608958668.py:34: DeprecationWarning: find_element_by_xpath is deprecated. Please use find_element(by=By.XPATH, value=xpath) instead\n",
      "  name = driver.find_element_by_xpath(f'//*[@id=\"__next\"]/div/div[2]/div[2]/div[3]/div[1]/ul/div/div[{j}]/li/div[1]/div[2]/div[1]/a').text\n"
     ]
    },
    {
     "name": "stdout",
     "output_type": "stream",
     "text": [
      "['일리 캡슐 커피(네스프레소 호환 스타벅스 로르 네스카페) 개별포장 7개', '일리 캡슐 커피(네스프레소 호환 스타벅스 로르 네스카페) 개별포장 7개', '일리 캡슐 커피(네스프레소 호환 캡슐 스타벅스 캡슐)개별포장8개', '일리 캡슐 커피(네스프레소 호환 캡슐 스타벅스 캡슐)개별포장8개', '[3+ ] 네스카페 돌체구스토 커피 캡슐 디카페인 라떼 아이스 아메리카노 32종', '[3+ ] 네스카페 돌체구스토 커피 캡슐 디카페인 라떼 아이스 아메리카노 32종', '네스프레소 호환 일리 스타벅스 라바짜 캡슐 분쇄커피 포함', '네스프레소 호환 일리 스타벅스 라바짜 캡슐 분쇄커피 포함', '하이드로더치 하이드로 더치커피 콜드브루 8종 10+10+2팩 외', '하이드로더치 하이드로 더치커피 콜드브루 8종 10+10+2팩 외', '일리 캡슐 커피(네스프레소 호환 스타벅스 로르 네스카페) 개별포장 7개', '일리 캡슐 커피(네스프레소 호환 스타벅스 로르 네스카페) 개별포장 7개', '일리 캡슐 커피(네스프레소 호환 캡슐 스타벅스 캡슐)개별포장8개', '일리 캡슐 커피(네스프레소 호환 캡슐 스타벅스 캡슐)개별포장8개', '[3+ ] 네스카페 돌체구스토 커피 캡슐 디카페인 라떼 아이스 아메리카노 32종', '[3+ ] 네스카페 돌체구스토 커피 캡슐 디카페인 라떼 아이스 아메리카노 32종', '네스프레소 호환 일리 스타벅스 라바짜 캡슐 분쇄커피 포함', '네스프레소 호환 일리 스타벅스 라바짜 캡슐 분쇄커피 포함', '하이드로더치 하이드로 더치커피 콜드브루 8종 10+10+2팩 외', '하이드로더치 하이드로 더치커피 콜드브루 8종 10+10+2팩 외']\n"
     ]
    }
   ],
   "source": [
    "from selenium import webdriver\n",
    "from selenium.webdriver.common.keys import Keys\n",
    "import time\n",
    "\n",
    "driver = webdriver.Chrome(executable_path= \"./chromedriver.exe\")\n",
    "\n",
    "url = \"https://shopping.naver.com/home/p/index.naver\"\n",
    "driver.get(url)\n",
    "\n",
    "\n",
    "time.sleep(1)\n",
    "\n",
    "serch=driver.find_element_by_xpath('//*[@id=\"_verticalGnbModule\"]/div/div/div[2]/div/div[2]/form/fieldset/div/input')\n",
    "serch.click()\n",
    "driver.find_element_by_xpath('//*[@id=\"_verticalGnbModule\"]/div/div/div[2]/div/div[2]/form/fieldset/div/input').send_keys('커피')\n",
    "serch.send_keys(Keys.ENTER)\n",
    "\n",
    "serch=driver.find_element_by_xpath('//*[@id=\"__next\"]/div/div[2]/div[2]/div[3]/div[1]/div[1]/div/div[2]/div[3]/a')\n",
    "serch.click()\n",
    "\n",
    "serch=driver.find_element_by_xpath('//*[@id=\"__next\"]/div/div[2]/div[2]/div[3]/div[1]/div[1]/div/div[2]/div[3]/ul/li[1]/a')\n",
    "serch.click()\n",
    "\n",
    "serch=driver.find_element_by_xpath('//*[@id=\"__next\"]/div/div[2]/div[2]/div[3]/div[1]/div[1]/div/div[1]/a[4]')\n",
    "serch.click()\n",
    "\n",
    "li=[]\n",
    "\n",
    "while True:\n",
    " for j in range(1, 21):\n",
    "   try:\n",
    "     name = driver.find_element_by_xpath(f'//*[@id=\"__next\"]/div/div[2]/div[2]/div[3]/div[1]/ul/div/div[{j}]/li/div/div[2]/div[1]/a').text\n",
    "     li.append(name)\n",
    "     name = driver.find_element_by_xpath(f'//*[@id=\"__next\"]/div/div[2]/div[2]/div[3]/div[1]/ul/div/div[{j}]/li/div[1]/div[2]/div[1]/a').text\n",
    "     li.append(name)\n",
    "   except:\n",
    "     name = \"NAN\"\n",
    "     pass\n",
    " if len(li) == 20:\n",
    "     break\n",
    "\n",
    "print(li)\n"
   ]
  }
 ],
 "metadata": {
  "interpreter": {
   "hash": "efb3f54ef8911dc914f55a9af49f3bbe71028ec86225638d8d432e62c4927c8f"
  },
  "kernelspec": {
   "display_name": "Python 3.9.13 64-bit",
   "language": "python",
   "name": "python3"
  },
  "language_info": {
   "codemirror_mode": {
    "name": "ipython",
    "version": 3
   },
   "file_extension": ".py",
   "mimetype": "text/x-python",
   "name": "python",
   "nbconvert_exporter": "python",
   "pygments_lexer": "ipython3",
   "version": "3.9.13"
  },
  "orig_nbformat": 4
 },
 "nbformat": 4,
 "nbformat_minor": 2
}
