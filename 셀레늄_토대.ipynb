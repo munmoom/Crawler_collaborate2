{
  "cells": [
    {
      "cell_type": "markdown",
      "metadata": {
        "colab_type": "text",
        "id": "view-in-github"
      },
      "source": [
        "<a href=\"https://colab.research.google.com/github/munmoom/Crawler_collaborate2/blob/main/%EC%85%80%EB%A0%88%EB%8A%84_%ED%86%A0%EB%8C%80.ipynb\" target=\"_parent\"><img src=\"https://colab.research.google.com/assets/colab-badge.svg\" alt=\"Open In Colab\"/></a>"
      ]
    },
    {
      "cell_type": "code",
      "execution_count": 2,
      "metadata": {
        "id": "T07L4e14ch8I"
      },
      "outputs": [
        {
          "name": "stdout",
          "output_type": "stream",
          "text": [
            "Requirement already satisfied: selenium in c:\\users\\user\\desktop\\기컴프_컴사인\\lib\\site-packages (4.1.5)\n",
            "Requirement already satisfied: trio~=0.17 in c:\\users\\user\\desktop\\기컴프_컴사인\\lib\\site-packages (from selenium) (0.20.0)\n",
            "Requirement already satisfied: trio-websocket~=0.9 in c:\\users\\user\\desktop\\기컴프_컴사인\\lib\\site-packages (from selenium) (0.9.2)\n",
            "Requirement already satisfied: urllib3[secure,socks]~=1.26 in c:\\users\\user\\desktop\\기컴프_컴사인\\lib\\site-packages (from selenium) (1.26.9)\n",
            "Requirement already satisfied: sortedcontainers in c:\\users\\user\\desktop\\기컴프_컴사인\\lib\\site-packages (from trio~=0.17->selenium) (2.4.0)\n",
            "Requirement already satisfied: async-generator>=1.9 in c:\\users\\user\\desktop\\기컴프_컴사인\\lib\\site-packages (from trio~=0.17->selenium) (1.10)\n",
            "Requirement already satisfied: outcome in c:\\users\\user\\desktop\\기컴프_컴사인\\lib\\site-packages (from trio~=0.17->selenium) (1.1.0)\n",
            "Requirement already satisfied: cffi>=1.14 in c:\\users\\user\\desktop\\기컴프_컴사인\\lib\\site-packages (from trio~=0.17->selenium) (1.15.0)\n",
            "Requirement already satisfied: attrs>=19.2.0 in c:\\users\\user\\desktop\\기컴프_컴사인\\lib\\site-packages (from trio~=0.17->selenium) (21.4.0)\n",
            "Requirement already satisfied: idna in c:\\users\\user\\desktop\\기컴프_컴사인\\lib\\site-packages (from trio~=0.17->selenium) (3.3)\n",
            "Requirement already satisfied: sniffio in c:\\users\\user\\desktop\\기컴프_컴사인\\lib\\site-packages (from trio~=0.17->selenium) (1.2.0)\n",
            "Requirement already satisfied: wsproto>=0.14 in c:\\users\\user\\desktop\\기컴프_컴사인\\lib\\site-packages (from trio-websocket~=0.9->selenium) (1.1.0)\n",
            "Requirement already satisfied: PySocks!=1.5.7,<2.0,>=1.5.6 in c:\\users\\user\\desktop\\기컴프_컴사인\\lib\\site-packages (from urllib3[secure,socks]~=1.26->selenium) (1.7.1)\n",
            "Requirement already satisfied: certifi in c:\\users\\user\\desktop\\기컴프_컴사인\\lib\\site-packages (from urllib3[secure,socks]~=1.26->selenium) (2022.5.18.1)\n",
            "Requirement already satisfied: pyOpenSSL>=0.14 in c:\\users\\user\\desktop\\기컴프_컴사인\\lib\\site-packages (from urllib3[secure,socks]~=1.26->selenium) (22.0.0)\n",
            "Requirement already satisfied: cryptography>=1.3.4 in c:\\users\\user\\desktop\\기컴프_컴사인\\lib\\site-packages (from urllib3[secure,socks]~=1.26->selenium) (37.0.2)\n",
            "Requirement already satisfied: pycparser in c:\\users\\user\\desktop\\기컴프_컴사인\\lib\\site-packages (from cffi>=1.14->trio~=0.17->selenium) (2.21)\n",
            "Requirement already satisfied: h11<1,>=0.9.0 in c:\\users\\user\\desktop\\기컴프_컴사인\\lib\\site-packages (from wsproto>=0.14->trio-websocket~=0.9->selenium) (0.13.0)\n",
            "Note: you may need to restart the kernel to use updated packages.\n"
          ]
        },
        {
          "name": "stderr",
          "output_type": "stream",
          "text": [
            "WARNING: You are using pip version 22.0.4; however, version 22.1 is available.\n",
            "You should consider upgrading via the 'c:\\Users\\user\\Desktop\\기컴프_컴사인\\python.exe -m pip install --upgrade pip' command.\n"
          ]
        }
      ],
      "source": [
        "pip install selenium"
      ]
    },
    {
      "cell_type": "markdown",
      "metadata": {
        "id": "6bn-_j1YENuR"
      },
      "source": [
        "### 셀레니움 기초코드 짜는중"
      ]
    },
    {
      "cell_type": "code",
      "execution_count": 5,
      "metadata": {
        "id": "FT-F1ci5BW5w"
      },
      "outputs": [
        {
          "ename": "IndentationError",
          "evalue": "expected an indented block (2083996003.py, line 21)",
          "output_type": "error",
          "traceback": [
            "\u001b[1;36m  Input \u001b[1;32mIn [5]\u001b[1;36m\u001b[0m\n\u001b[1;33m    time.sleep(10)\u001b[0m\n\u001b[1;37m    ^\u001b[0m\n\u001b[1;31mIndentationError\u001b[0m\u001b[1;31m:\u001b[0m expected an indented block\n"
          ]
        }
      ],
      "source": [
        "from selenium import webdriver\n",
        "from selenium.webdriver.common.keys import Keys\n",
        "import time\n",
        "\n",
        "driver = webdriver.Chrome(executable_path= \"./chromedriver.exe\")\n",
        "\n",
        "url = \"https://www.coupang.com/\"\n",
        "driver.get(url)\n",
        "\n",
        "\n",
        "time.sleep(10)\n",
        "serch=driver.find_element_by_xpath('//*[@id=\"headerSearchKeyword\"]')\n",
        "serch.click()\n",
        "driver.find_element_by_xpath('//*[@id=\"headerSearchKeyword\"]').send_keys('바나나')\n",
        "serch.send_keys(Keys.ENTER)\n",
        "\n",
        "\n",
        "\n",
        "res = []\n",
        "for _ in range(5):\n",
        "time.sleep(10)\n",
        "for j in range(1,11):\n",
        "\n",
        "try:\n",
        "# 먼저 레포지토리의 제작자와 레포지토리의 이름을 가져오는 변수입니다.\n",
        "name = driver.find_element_by_xpath(f'//*[@id=\"js-pjax-container\"]/div/div[3]/div/ul/li[{j}]/div[2]/div[1]/div/a').text\n",
        "# 잘 되고 있는지 확인 차 print 문으로 해당 변수와 경계를 표시해줍니다.\n",
        "print(f'---{name}---')\n",
        "except:\n",
        "# 타겟에 안 맞으면 변수에 결측치 표시를 위해 NAN을 할당해주고 다음 행동으로 넘어갑니다.\n",
        "name = \"NAN\"\n",
        "pass\n",
        "try:\n",
        "# name 처럼 추천을 받은 수도 해줍니다. 아래도 마찬가지로 사용된 언어, 업데이트된 날짜도 같은 방식으로 해줍니다.\n",
        "stars = driver.find_element_by_xpath(f'//*[@id=\"js-pjax-container\"]/div/div[3]/div/ul/li[{j}]/div[2]/div[2]/div/div[1]/a').text\n",
        "print(f'---{stars}---')\n",
        "except:\n",
        "stars = \"NAN\"\n",
        "pass\n",
        "try:\n",
        "lang = driver.find_element_by_xpath(f'//*[@id=\"js-pjax-container\"]/div/div[3]/div/ul/li[{j}]/div[2]/div[2]/div/div[2]/span/span[2]\n",
        "print(f'---{lang}---')\n",
        "except :\n",
        "lang = \"NAN\"\n",
        "pass\n",
        "try:\n",
        "date = driver.find_element_by_xpath(f'//*[@id=\"js-pjax-container\"]/div/div[3]/div/ul/li[{j}]/div[2]/div[2]/div/div[3]').text\n",
        "print(f'---{date}---')\n",
        "except:\n",
        "date = \"NAN\"\n",
        "pass\n",
        "# 한 목록의 크롤링이 끝나면 res 변수에 원소를 추가 해주고 다음 목록으로 넘어갑니다.\n",
        "res.append((name,stars,lang,date))\n",
        "\n",
        "driver.find_element_by_css_selector('#js-pjax-container > div > div.col-12.col-md-9.float-left.px-2.pt-3.pt-md-0.codesearch-results >\n",
        "\n",
        "print(res)\n",
        "driver.quit()\n",
        "import pandas as pd\n",
        "# 우리가 크롤링한 데이터를 데이터 프레임 변수에 할당해줍니다.\n",
        "data = pd.DataFrame(res)\n",
        "# 그리고 우리가 작업하고 있는 디렉토리에 csv파일을 저장해줍니다.\n",
        "data.to_csv('./data.csv')"
      ]
    }
  ],
  "metadata": {
    "colab": {
      "include_colab_link": true,
      "name": "셀레늄 토대",
      "provenance": []
    },
    "interpreter": {
      "hash": "efb3f54ef8911dc914f55a9af49f3bbe71028ec86225638d8d432e62c4927c8f"
    },
    "kernelspec": {
      "display_name": "Python 3.9.13 64-bit",
      "language": "python",
      "name": "python3"
    },
    "language_info": {
      "codemirror_mode": {
        "name": "ipython",
        "version": 3
      },
      "file_extension": ".py",
      "mimetype": "text/x-python",
      "name": "python",
      "nbconvert_exporter": "python",
      "pygments_lexer": "ipython3",
      "version": "3.9.13"
    }
  },
  "nbformat": 4,
  "nbformat_minor": 0
}
